{
 "cells": [
  {
   "cell_type": "markdown",
   "metadata": {},
   "source": [
    "<h1><center>Sample design - Stress/Strain anisotropy tester</center></h1>"
   ]
  },
  {
   "cell_type": "code",
   "execution_count": 1,
   "metadata": {
    "scrolled": false
   },
   "outputs": [
    {
     "data": {
      "text/plain": [
       "['2hole.xdmf',\n",
       " '2notch.xdmf',\n",
       " 'test_array_circle.xdmf',\n",
       " 'test_array_ellipse.xdmf',\n",
       " 'test_clover.xdmf',\n",
       " 'test_dumbell.xdmf',\n",
       " 'test_dumbell_45.xdmf',\n",
       " 'test_dumbell_BF3.xdmf',\n",
       " 'test_loop_array_2fold.xdmf',\n",
       " 'test_NPR_rounded.xdmf',\n",
       " 'test_NPR_rounded_45.xdmf',\n",
       " 'test_simplehole_discA1.xdmf',\n",
       " 'test_simplehole_ellipseA12.xdmf',\n",
       " 'test_simplehole_rectangleA12.xdmf',\n",
       " 'test_simplehole_squareA1.xdmf',\n",
       " 'test_simplehole_squareB1.xdmf',\n",
       " 'test_withouthole.xdmf']"
      ]
     },
     "execution_count": 1,
     "metadata": {},
     "output_type": "execute_result"
    }
   ],
   "source": [
    "# list available samples\n",
    "from os import listdir\n",
    "from os import path\n",
    "meshpath = './output_files/'\n",
    "mesh_list = [x for x in listdir(meshpath) if x.endswith('.xdmf')]\n",
    "mesh_list = [\n",
    " '2hole.xdmf',\n",
    " '2notch.xdmf',\n",
    " 'test_array_circle.xdmf',   \n",
    " 'test_array_ellipse.xdmf',\n",
    " 'test_clover.xdmf',\n",
    " 'test_dumbell.xdmf',\n",
    " 'test_dumbell_45.xdmf',\n",
    " 'test_dumbell_BF3.xdmf',\n",
    "#  'test_clover_rand.xdmf',\n",
    " 'test_loop_array_2fold.xdmf',\n",
    "#  'test_loop_array_3fold.xdmf',\n",
    "#  'test_NPR.xdmf',\n",
    " 'test_NPR_rounded.xdmf',\n",
    " 'test_NPR_rounded_45.xdmf',\n",
    "#  'test_NPR_rounded_90.xdmf',\n",
    "#  'test_NPR_rounded_rand.xdmf',\n",
    "#  'test_NPR_rounded_swivel.xdmf',\n",
    "#  'test_NPR_rounded_h.xdmf',\n",
    "#  'test_NPR_rounded_v.xdmf',\n",
    " 'test_simplehole_discA1.xdmf',\n",
    " 'test_simplehole_ellipseA12.xdmf',\n",
    " 'test_simplehole_rectangleA12.xdmf',\n",
    " 'test_simplehole_squareA1.xdmf',\n",
    " 'test_simplehole_squareB1.xdmf',\n",
    " 'test_withouthole.xdmf',\n",
    "#  'example_2fold.xdmf',\n",
    "#  'example_3fold.xdmf',\n",
    "]\n",
    "mesh_list"
   ]
  },
  {
   "cell_type": "code",
   "execution_count": 2,
   "metadata": {},
   "outputs": [
    {
     "ename": "ModuleNotFoundError",
     "evalue": "No module named 'meshio'",
     "output_type": "error",
     "traceback": [
      "\u001b[0;31m---------------------------------------------------------------------------\u001b[0m",
      "\u001b[0;31mModuleNotFoundError\u001b[0m                       Traceback (most recent call last)",
      "\u001b[0;32m<ipython-input-2-ce8498b14f5c>\u001b[0m in \u001b[0;36m<module>\u001b[0;34m\u001b[0m\n\u001b[1;32m      3\u001b[0m \u001b[0;31m# import pygmsh_mesh_functions\u001b[0m\u001b[0;34m\u001b[0m\u001b[0;34m\u001b[0m\u001b[0;34m\u001b[0m\u001b[0m\n\u001b[1;32m      4\u001b[0m \u001b[0;31m# from pygmsh_mesh_functions import *\u001b[0m\u001b[0;34m\u001b[0m\u001b[0;34m\u001b[0m\u001b[0;34m\u001b[0m\u001b[0m\n\u001b[0;32m----> 5\u001b[0;31m \u001b[0;32mimport\u001b[0m \u001b[0mmeshio\u001b[0m\u001b[0;34m\u001b[0m\u001b[0;34m\u001b[0m\u001b[0m\n\u001b[0m\u001b[1;32m      6\u001b[0m \u001b[0;32mimport\u001b[0m \u001b[0mnumpy\u001b[0m \u001b[0;32mas\u001b[0m \u001b[0mnp\u001b[0m\u001b[0;34m\u001b[0m\u001b[0;34m\u001b[0m\u001b[0m\n\u001b[1;32m      7\u001b[0m \u001b[0;32mfrom\u001b[0m \u001b[0mtqdm\u001b[0m \u001b[0;32mimport\u001b[0m \u001b[0mtqdm\u001b[0m\u001b[0;34m\u001b[0m\u001b[0;34m\u001b[0m\u001b[0m\n",
      "\u001b[0;31mModuleNotFoundError\u001b[0m: No module named 'meshio'"
     ]
    }
   ],
   "source": [
    "# from fenics import *\n",
    "# from dolfin_adjoint import *\n",
    "# import pygmsh_mesh_functions\n",
    "# from pygmsh_mesh_functions import *\n",
    "import meshio\n",
    "import numpy as np\n",
    "from tqdm import tqdm\n",
    "\n",
    "# For quality evaluation\n",
    "from anisotropyv3 import *\n",
    "import optisample as opti\n",
    "\n",
    "from scipy.io import loadmat\n",
    "from scipy.io import savemat"
   ]
  },
  {
   "cell_type": "code",
   "execution_count": 3,
   "metadata": {},
   "outputs": [
    {
     "name": "stdout",
     "output_type": "stream",
     "text": [
      "\n",
      "Iteration 1\n",
      "\n"
     ]
    },
    {
     "ename": "MemoryError",
     "evalue": "std::bad_alloc",
     "output_type": "error",
     "traceback": [
      "\u001b[0;31m---------------------------------------------------------------------------\u001b[0m",
      "\u001b[0;31mMemoryError\u001b[0m                               Traceback (most recent call last)",
      "\u001b[0;32m<ipython-input-3-7d79a7ea0c6e>\u001b[0m in \u001b[0;36m<module>\u001b[0;34m()\u001b[0m\n\u001b[1;32m     14\u001b[0m     \u001b[0;31m#### Calculate anisotropic score ####\u001b[0m\u001b[0;34m\u001b[0m\u001b[0;34m\u001b[0m\u001b[0;34m\u001b[0m\u001b[0m\n\u001b[1;32m     15\u001b[0m     \u001b[0mthresholds\u001b[0m \u001b[0;34m=\u001b[0m \u001b[0;34m[\u001b[0m\u001b[0;36m0.00\u001b[0m\u001b[0;34m,\u001b[0m\u001b[0;36m0.25\u001b[0m\u001b[0;34m,\u001b[0m\u001b[0;36m0.50\u001b[0m\u001b[0;34m,\u001b[0m\u001b[0;36m0.75\u001b[0m\u001b[0;34m,\u001b[0m\u001b[0;36m1.00\u001b[0m\u001b[0;34m,\u001b[0m\u001b[0;36m1.25\u001b[0m\u001b[0;34m,\u001b[0m\u001b[0;36m1.50\u001b[0m\u001b[0;34m,\u001b[0m\u001b[0;36m1.75\u001b[0m\u001b[0;34m,\u001b[0m\u001b[0;36m2.00\u001b[0m\u001b[0;34m]\u001b[0m\u001b[0;34m\u001b[0m\u001b[0;34m\u001b[0m\u001b[0m\n\u001b[0;32m---> 16\u001b[0;31m     \u001b[0mresults\u001b[0m \u001b[0;34m=\u001b[0m \u001b[0mopti\u001b[0m\u001b[0;34m.\u001b[0m\u001b[0monmesh_FITsample_grid\u001b[0m\u001b[0;34m(\u001b[0m\u001b[0mfilename\u001b[0m\u001b[0;34m,\u001b[0m\u001b[0mlx\u001b[0m\u001b[0;34m=\u001b[0m\u001b[0mLx\u001b[0m\u001b[0;34m,\u001b[0m\u001b[0mly\u001b[0m\u001b[0;34m=\u001b[0m\u001b[0mLy\u001b[0m\u001b[0;34m,\u001b[0m\u001b[0mtitle\u001b[0m\u001b[0;34m=\u001b[0m\u001b[0;34m'Grid_GapScore'\u001b[0m\u001b[0;34m,\u001b[0m\u001b[0mgapscore\u001b[0m\u001b[0;34m=\u001b[0m\u001b[0mGapScore5\u001b[0m\u001b[0;34m,\u001b[0m\u001b[0monlystresspoints\u001b[0m\u001b[0;34m=\u001b[0m\u001b[0;32mTrue\u001b[0m\u001b[0;34m,\u001b[0m\u001b[0msaving\u001b[0m\u001b[0;34m=\u001b[0m\u001b[0;32mTrue\u001b[0m\u001b[0;34m)\u001b[0m\u001b[0;34m\u001b[0m\u001b[0;34m\u001b[0m\u001b[0m\n\u001b[0m\u001b[1;32m     17\u001b[0m     Score_stress_gap = [GapScore5(results,quantileinf=0.50,strcoeffinf=x,quantilesup=1.00,strcoeffsup=1.00)\n\u001b[1;32m     18\u001b[0m                         for x in thresholds]\n",
      "\u001b[0;32m~/project_FEniCS/tests/catalogue/optisample.py\u001b[0m in \u001b[0;36monmesh_FITsample_grid\u001b[0;34m(MESHFILE, lx, ly, N, title, onlystresspoints, details, constitutive_func, num_stps, e_max, T_max, tol, N_seg, gapscore, saving, newtensorspace)\u001b[0m\n\u001b[1;32m   1049\u001b[0m     \u001b[0mmesh\u001b[0m \u001b[0;34m=\u001b[0m \u001b[0mMesh\u001b[0m\u001b[0;34m(\u001b[0m\u001b[0;34m)\u001b[0m\u001b[0;34m\u001b[0m\u001b[0;34m\u001b[0m\u001b[0m\n\u001b[1;32m   1050\u001b[0m     \u001b[0;32mwith\u001b[0m \u001b[0mXDMFFile\u001b[0m\u001b[0;34m(\u001b[0m\u001b[0mstr\u001b[0m\u001b[0;34m(\u001b[0m\u001b[0mMESHFILE\u001b[0m\u001b[0;34m)\u001b[0m\u001b[0;34m)\u001b[0m \u001b[0;32mas\u001b[0m \u001b[0mxdmf_infile\u001b[0m\u001b[0;34m:\u001b[0m\u001b[0;34m\u001b[0m\u001b[0;34m\u001b[0m\u001b[0m\n\u001b[0;32m-> 1051\u001b[0;31m         \u001b[0mxdmf_infile\u001b[0m\u001b[0;34m.\u001b[0m\u001b[0mread\u001b[0m\u001b[0;34m(\u001b[0m\u001b[0mmesh\u001b[0m\u001b[0;34m)\u001b[0m\u001b[0;34m\u001b[0m\u001b[0;34m\u001b[0m\u001b[0m\n\u001b[0m\u001b[1;32m   1052\u001b[0m \u001b[0;31m#     plot(mesh,wireframe = True,title=\"Mesh \"+title)\u001b[0m\u001b[0;34m\u001b[0m\u001b[0;34m\u001b[0m\u001b[0;34m\u001b[0m\u001b[0m\n\u001b[1;32m   1053\u001b[0m     \u001b[0mn_elements\u001b[0m\u001b[0;34m=\u001b[0m\u001b[0mlen\u001b[0m\u001b[0;34m(\u001b[0m\u001b[0mmesh\u001b[0m\u001b[0;34m.\u001b[0m\u001b[0mcoordinates\u001b[0m\u001b[0;34m(\u001b[0m\u001b[0;34m)\u001b[0m\u001b[0;34m)\u001b[0m\u001b[0;34m\u001b[0m\u001b[0;34m\u001b[0m\u001b[0m\n",
      "\u001b[0;31mMemoryError\u001b[0m: std::bad_alloc"
     ]
    }
   ],
   "source": [
    "Lx=1.0\n",
    "Ly=1.0\n",
    "\n",
    "for i in range(len(mesh_list)):\n",
    "\n",
    "    #### Evaluate strain diversity ####\n",
    "    #### load mesh\n",
    "    meshfile = mesh_list[i]\n",
    "    filename = './output_files/'+meshfile\n",
    "    if not path.exists(filename):\n",
    "        print(meshfile+' failed')\n",
    "        continue\n",
    "\n",
    "    #### Calculate anisotropic score #### \n",
    "    thresholds = [0.00,0.25,0.50,0.75,1.00,1.25,1.50,1.75,2.00]\n",
    "    results = opti.onmesh_FITsample_grid(filename,lx=Lx,ly=Ly,title='Grid_GapScore',gapscore=GapScore5,onlystresspoints=True,saving=True)\n",
    "    Score_stress_gap = [GapScore5(results,quantileinf=0.50,strcoeffinf=x,quantilesup=1.00,strcoeffsup=1.00)\n",
    "                        for x in thresholds]\n",
    "    print('Score_stress_gap = {}'.format(Score_stress_gap))\n",
    "\n",
    "    #### Save results ####\n",
    "    Score_gap = np.array(Score_stress_gap)\n",
    "    \n",
    "    from scipy.io import savemat\n",
    "    mdic = {\n",
    "            'Score_gap':Score_gap,\n",
    "           }\n",
    "    savemat('./results/'+meshfile+'_score_grid.mat', mdic)"
   ]
  },
  {
   "cell_type": "code",
   "execution_count": null,
   "metadata": {},
   "outputs": [],
   "source": []
  }
 ],
 "metadata": {
  "kernelspec": {
   "display_name": "Python 3",
   "language": "python",
   "name": "python3"
  },
  "language_info": {
   "codemirror_mode": {
    "name": "ipython",
    "version": 3
   },
   "file_extension": ".py",
   "mimetype": "text/x-python",
   "name": "python",
   "nbconvert_exporter": "python",
   "pygments_lexer": "ipython3",
   "version": "3.7.3"
  },
  "latex_envs": {
   "LaTeX_envs_menu_present": true,
   "autoclose": false,
   "autocomplete": true,
   "bibliofile": "biblio.bib",
   "cite_by": "apalike",
   "current_citInitial": 1,
   "eqLabelWithNumbers": true,
   "eqNumInitial": 1,
   "hotkeys": {
    "equation": "Ctrl-E",
    "itemize": "Ctrl-I"
   },
   "labels_anchors": false,
   "latex_user_defs": false,
   "report_style_numbering": false,
   "user_envs_cfg": false
  },
  "toc": {
   "base_numbering": 1,
   "nav_menu": {},
   "number_sections": true,
   "sideBar": true,
   "skip_h1_title": false,
   "title_cell": "Table of Contents",
   "title_sidebar": "Contents",
   "toc_cell": false,
   "toc_position": {},
   "toc_section_display": true,
   "toc_window_display": false
  },
  "varInspector": {
   "cols": {
    "lenName": 16,
    "lenType": 16,
    "lenVar": 40
   },
   "kernels_config": {
    "python": {
     "delete_cmd_postfix": "",
     "delete_cmd_prefix": "del ",
     "library": "var_list.py",
     "varRefreshCmd": "print(var_dic_list())"
    },
    "r": {
     "delete_cmd_postfix": ") ",
     "delete_cmd_prefix": "rm(",
     "library": "var_list.r",
     "varRefreshCmd": "cat(var_dic_list()) "
    }
   },
   "types_to_exclude": [
    "module",
    "function",
    "builtin_function_or_method",
    "instance",
    "_Feature"
   ],
   "window_display": false
  }
 },
 "nbformat": 4,
 "nbformat_minor": 5
}
