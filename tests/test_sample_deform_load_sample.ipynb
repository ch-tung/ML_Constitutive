{
 "cells": [
  {
   "cell_type": "code",
   "execution_count": 1,
   "id": "5819bf95",
   "metadata": {},
   "outputs": [],
   "source": [
    "from __future__ import print_function\n",
    "from fenics import *\n",
    "from dolfin_adjoint import *\n",
    "# import mshr\n",
    "import numpy as np\n",
    "import pathlib\n",
    "from tqdm import tqdm"
   ]
  },
  {
   "cell_type": "markdown",
   "id": "0f4ee2ac",
   "metadata": {},
   "source": [
    "### Load created mesh"
   ]
  },
  {
   "cell_type": "code",
   "execution_count": 2,
   "id": "c7fa2e35",
   "metadata": {},
   "outputs": [],
   "source": [
    "# Create mesh and define function space\n",
    "sample_name = \"midpoint_ellipse\"\n",
    "filepath = 'test_sample_deform/load/'+sample_name+'/'\n",
    "out_dir = pathlib.Path(filepath)\n",
    "out_dir.mkdir(parents=True, exist_ok=True)"
   ]
  },
  {
   "cell_type": "code",
   "execution_count": 3,
   "id": "a7746091",
   "metadata": {},
   "outputs": [
    {
     "data": {
      "text/plain": [
       "[<matplotlib.lines.Line2D at 0x7f9e87780310>,\n",
       " <matplotlib.lines.Line2D at 0x7f9e87780430>]"
      ]
     },
     "execution_count": 3,
     "metadata": {},
     "output_type": "execute_result"
    },
    {
     "data": {
      "image/png": "[encoded data removed]",
      "text/plain": [
       "<Figure size 432x288 with 1 Axes>"
      ]
     },
     "metadata": {
      "needs_background": "light"
     },
     "output_type": "display_data"
    }
   ],
   "source": [
    "meshpath = './output_files/'\n",
    "mesh = Mesh()\n",
    "with XDMFFile(meshpath+sample_name+\".xdmf\") as xdmf_infile:\n",
    "    xdmf_infile.read(mesh)\n",
    "n_elements = mesh.coordinates().shape[0]\n",
    "plot(mesh)"
   ]
  },
  {
   "cell_type": "markdown",
   "id": "5047cf65",
   "metadata": {},
   "source": [
    "### Constitutive relation"
   ]
  },
  {
   "cell_type": "code",
   "execution_count": 4,
   "id": "5afe7ecc",
   "metadata": {},
   "outputs": [],
   "source": [
    "# Mechanical Properties\n",
    "E_m = 1e6\n",
    "E = Constant(1*E_m)\n",
    "nu = Constant(0.3)\n",
    "sigma_y0 = Constant(0.01*E_m) # yield stress\n",
    "\n",
    "mu = E/2/(1+nu)\n",
    "lmbda = E*nu/(1+nu)/(1-2*nu)\n",
    "lmbda = 2*mu*lmbda/(lmbda+2*mu)"
   ]
  },
  {
   "cell_type": "code",
   "execution_count": 5,
   "id": "1acf5c3b",
   "metadata": {},
   "outputs": [],
   "source": [
    "def sigmoid(x):\n",
    "    s = 1/(1+exp(-x))\n",
    "    return s\n",
    "def tanh(x):\n",
    "    t = (exp(2*x)-1)/(exp(2*x)+1)\n",
    "    return t"
   ]
  },
  {
   "cell_type": "code",
   "execution_count": 6,
   "id": "360b4913",
   "metadata": {},
   "outputs": [],
   "source": [
    "# Constitutive relation\n",
    "def epsilon(u):\n",
    "    return sym(grad(u))\n",
    "\n",
    "def sigma_el(epsilon):\n",
    "    return lmbda*tr(epsilon)*Identity(2) + 2*mu*epsilon\n",
    "\n",
    "def sigma_yield(epsilon):\n",
    "    return sigma_y0 + 0.1*sigma_y0*tanh(epsilon*10)\n",
    "\n",
    "def epsilon_pl(d_epsilon, sigma_old, epsilon_old,kappa_value=100):\n",
    "    '''\n",
    "    inputs\n",
    "    d_epsilon: strain increment\n",
    "    sigma_old: stress tensor at the increment n\n",
    "    epsilon_old: plastic strain tensor\n",
    "    kappa_value: sharpness of the sigmoid function\n",
    "    '''\n",
    "    kappa = Constant(kappa_value)\n",
    "    \n",
    "    sigma_y = sigma_yield(epsilon_old)\n",
    "    H = diff(sigma_y, epsilon_old)\n",
    "    \n",
    "    sigma_pr = sigma_old + sigma_el(d_epsilon) # trial stress\n",
    "    sigma_pr_dev = dev(sigma_pr) # deviatoric elastic stress\n",
    "    sigma_ef = sqrt(3/2.*inner(sigma_pr_dev, sigma_pr_dev) + DOLFIN_EPS) # effective von Mises stress\n",
    "    \n",
    "    sgn = (sigma_ef - sigma_y)/(abs(sigma_ef - sigma_y) + DOLFIN_EPS)\n",
    "    f_sigmoid = sigmoid(kappa*(sigma_ef - sigma_y)*sgn) # the indicator function\n",
    "    f_ind = (f_sigmoid-0.5)*sgn + 0.5\n",
    "    \n",
    "    d_epsilon_pl_sc = f_ind*(sigma_ef - sigma_y)/(3*mu + H) # plastic strain increment (scalar)\n",
    "    n_pr = dev(sigma_pr) / sigma_ef\n",
    "    d_epsilon_pl = d_epsilon_pl_sc*3/2*n_pr\n",
    "    \n",
    "    return d_epsilon_pl\n",
    "\n",
    "def Constitutive_function(sig_n, du, ep_n, dt=1E-3):\n",
    "    d_epsilon_el = epsilon(du) # elastic strain increment\n",
    "    d_epsilon_pl = epsilon_pl(d_epsilon_el,sig_n,ep_n) # plastic strain increment\n",
    "    d_epsilon = d_epsilon_el - d_epsilon_pl\n",
    "    dot_p = sqrt(inner(d_epsilon_pl,d_epsilon_pl)*2.0/3.0 + DOLFIN_EPS) #Accumulated plastic strain rate\n",
    "    return sig_n + sigma_el(d_epsilon), dot_p"
   ]
  },
  {
   "cell_type": "code",
   "execution_count": 7,
   "id": "7c2671a6",
   "metadata": {},
   "outputs": [],
   "source": [
    "def mis_ep(u):\n",
    "    eps_dev = epsilon(u) - Identity(2)*tr(epsilon(u))\n",
    "    mis = sqrt(3/2*inner(eps_dev,eps_dev))\n",
    "    return mis\n",
    "\n",
    "def mis_sig(sig):\n",
    "    sigma_dev = sig - Identity(2)*tr(sig)\n",
    "    mis = sqrt(3/2*inner(sigma_dev,sigma_dev))\n",
    "    return mis"
   ]
  },
  {
   "cell_type": "code",
   "execution_count": 8,
   "id": "64db7ebb",
   "metadata": {},
   "outputs": [],
   "source": [
    "Time = 20\n",
    "num_steps = 20\n",
    "e_tot = 0.01\n",
    "\n",
    "def solve_plastic_system(mesh, Time, num_steps, constitutive_func, loss_func=lambda n,x: 0, tol = 1.0E-14):\n",
    "    dt = Time / num_steps # time step size\n",
    "    \n",
    "    # Define function space for displacement\n",
    "    S = FunctionSpace(mesh, 'P', 1)\n",
    "    V = VectorFunctionSpace(mesh, 'P', 1)\n",
    "    T = TensorFunctionSpace(mesh, 'P', 1)\n",
    "    \n",
    "    # Define test functions\n",
    "    v  = TestFunction(V)\n",
    "    du = TrialFunction(V)\n",
    "    \n",
    "    # Define functions for dsiplacement\n",
    "    u     = Function(V)\n",
    "    u_n   = Function(V)\n",
    "    sig   = Function(T)\n",
    "    sig_n = Function(T)\n",
    "    ep    = Function(S)\n",
    "    ep_n  = Function(S)\n",
    "\n",
    "    # Define boundary \n",
    "    def BC_y0(x, on_boundary):\n",
    "        return on_boundary and near(x[1], 0, tol)\n",
    "    def BC_y1(x, on_boundary):\n",
    "        return on_boundary and near(x[1], 1, tol)\n",
    "    bcD = DirichletBC(V.sub(1), 0,    BC_y0)\n",
    "    def BC_corner(x, on_boundary):\n",
    "        return near(x[1], 0, tol) and near(x[0], 0, 5e-2)\n",
    "    bc_corner = DirichletBC(V.sub(0), 0,    BC_corner)\n",
    "    \n",
    "    \n",
    "    # Time-stepping\n",
    "    t = 0\n",
    "    results = []\n",
    "    \n",
    "    File_displacement = File(filepath+'displacement_AG.pvd')\n",
    "    File_stress_Mis = File(filepath+'stress_Mis_AG.pvd')\n",
    "    File_strain_Mis = File(filepath+'strain_Mis_AG.pvd')\n",
    "    File_strain_AG = File(filepath+'strain_AG.pvd')\n",
    "    File_stess_AG = File(filepath+'stess_AG.pvd')\n",
    "    \n",
    "    array_u = np.zeros((n_elements,2,num_steps+1))\n",
    "    array_sigma = np.zeros((n_elements,2,2,num_steps+1))\n",
    "    array_epsilon = np.zeros((n_elements,2,2,num_steps+1))\n",
    "    \n",
    "    for n in tqdm(range(num_steps+1)):\n",
    "#         print(n)\n",
    "        displacement = float(e_tot/num_steps*n)\n",
    "        bcU = DirichletBC(V.sub(1), displacement, BC_y1)\n",
    "        BC = [bcU, bcD, bc_corner]\n",
    "        \n",
    "        # Define variational problem\n",
    "        sig, dep = constitutive_func(sig_n, u-u_n, ep_n, dt=dt)\n",
    "        F = inner(sig, epsilon(v))*dx\n",
    "        \n",
    "        # Update current time\n",
    "        t = t + dt\n",
    "        \n",
    "        # Solve variational problem for time step\n",
    "        J = derivative(F, u, du)\n",
    "        problem = NonlinearVariationalProblem(F, u, BC, J)\n",
    "        solver = NonlinearVariationalSolver(problem)\n",
    "        solver.solve()\n",
    "        \n",
    "        # Update previous solution\n",
    "        sig = project(sig, T)\n",
    "        ep = project(ep_n+dep, S)\n",
    "        \n",
    "        sig_n.assign(sig)\n",
    "        u_n.assign(u)\n",
    "        ep_n.assign(ep)\n",
    "#         print('end')\n",
    "        \n",
    "        # Save solution to file in VTK format\n",
    "        sig_Mis = project(mis_sig(sig),S)\n",
    "        ep_Mis = project(mis_ep(u),S)\n",
    "#         sig_Mis = mis_sig(sig)\n",
    "#         ep_Mis = mis_ep(u)\n",
    "        epsilon_u = epsilon(u)\n",
    "        \n",
    "        u.rename('$u$','displacement')\n",
    "        sig.rename('$\\sigma$','stress')\n",
    "        ep.rename('$\\epsilon$','strain')\n",
    "        sig_Mis.rename('$\\sigma_{VM}$','stress_Mis')\n",
    "        ep_Mis.rename('$\\epsilon_{VM}$','strain_Mis')\n",
    "        \n",
    "        File_displacement << (u,t)\n",
    "        File_stress_Mis << (sig_Mis,t)\n",
    "        File_strain_Mis << (ep_Mis)\n",
    "        File_strain_AG << (ep,t)\n",
    "        File_stess_AG << (sig,t)\n",
    "        \n",
    "        # Save element vectors in .mat format\n",
    "        from scipy.io import savemat\n",
    "        array_u[:,:,n] = np.array(u.vector()).reshape(n_elements,2)\n",
    "        \n",
    "        epsilon_u = epsilon(u)\n",
    "        epsilon_u = project(epsilon(u),T)\n",
    "        array_epsilon[:,:,:,n] = np.array(epsilon_u.vector()).reshape(n_elements,2,2)\n",
    "        \n",
    "        array_sigma[:,:,:,n] = np.array(sig.vector()).reshape(n_elements,2,2)\n",
    "        \n",
    "    mdic = {'u':array_u, 'epsilon':array_epsilon, 'sigma':array_sigma}\n",
    "    savemat(filepath+'data.mat', mdic)\n",
    "        \n",
    "    return ep, sig, u, sig_Mis, ep_Mis"
   ]
  },
  {
   "cell_type": "code",
   "execution_count": 9,
   "id": "1638871a",
   "metadata": {
    "scrolled": false
   },
   "outputs": [
    {
     "name": "stderr",
     "output_type": "stream",
     "text": [
      "\r",
      "  0%|                                                                                              | 0/21 [00:00<?, ?it/s]"
     ]
    },
    {
     "name": "stdout",
     "output_type": "stream",
     "text": [
      "Solving nonlinear variational problem.\n",
      "  Newton iteration 0: r (abs) = 0.000e+00 (tol = 1.000e-10) r (rel) = -nan (tol = 1.000e-09)\n",
      "  Newton solver finished in 0 iterations and 0 linear solver iterations.\n"
     ]
    },
    {
     "name": "stderr",
     "output_type": "stream",
     "text": [
      "\r",
      "  5%|████                                                                                  | 1/21 [00:05<01:42,  5.11s/it]"
     ]
    },
    {
     "name": "stdout",
     "output_type": "stream",
     "text": [
      "Solving nonlinear variational problem.\n",
      "  Newton iteration 0: r (abs) = 4.388e+03 (tol = 1.000e-10) r (rel) = 1.000e+00 (tol = 1.000e-09)\n",
      "  Newton iteration 1: r (abs) = 1.609e-11 (tol = 1.000e-10) r (rel) = 3.666e-15 (tol = 1.000e-09)\n",
      "  Newton solver finished in 1 iterations and 1 linear solver iterations.\n"
     ]
    },
    {
     "name": "stderr",
     "output_type": "stream",
     "text": [
      "\r",
      " 10%|████████▏                                                                             | 2/21 [00:18<03:06,  9.79s/it]"
     ]
    },
    {
     "name": "stdout",
     "output_type": "stream",
     "text": [
      "Solving nonlinear variational problem.\n",
      "  Newton iteration 0: r (abs) = 4.388e+03 (tol = 1.000e-10) r (rel) = 1.000e+00 (tol = 1.000e-09)\n",
      "  Newton iteration 1: r (abs) = 1.798e-11 (tol = 1.000e-10) r (rel) = 4.098e-15 (tol = 1.000e-09)\n",
      "  Newton solver finished in 1 iterations and 1 linear solver iterations.\n"
     ]
    },
    {
     "name": "stderr",
     "output_type": "stream",
     "text": [
      "\r",
      " 14%|████████████▎                                                                         | 3/21 [00:32<03:34, 11.90s/it]"
     ]
    },
    {
     "name": "stdout",
     "output_type": "stream",
     "text": [
      "Solving nonlinear variational problem.\n",
      "  Newton iteration 0: r (abs) = 4.388e+03 (tol = 1.000e-10) r (rel) = 1.000e+00 (tol = 1.000e-09)\n",
      "  Newton iteration 1: r (abs) = 1.984e-11 (tol = 1.000e-10) r (rel) = 4.522e-15 (tol = 1.000e-09)\n",
      "  Newton solver finished in 1 iterations and 1 linear solver iterations.\n"
     ]
    },
    {
     "name": "stderr",
     "output_type": "stream",
     "text": [
      "\r",
      " 19%|████████████████▍                                                                     | 4/21 [00:46<03:36, 12.72s/it]"
     ]
    },
    {
     "name": "stdout",
     "output_type": "stream",
     "text": [
      "Solving nonlinear variational problem.\n",
      "  Newton iteration 0: r (abs) = 4.388e+03 (tol = 1.000e-10) r (rel) = 1.000e+00 (tol = 1.000e-09)\n",
      "  Newton iteration 1: r (abs) = 2.078e-11 (tol = 1.000e-10) r (rel) = 4.736e-15 (tol = 1.000e-09)\n",
      "  Newton solver finished in 1 iterations and 1 linear solver iterations.\n"
     ]
    },
    {
     "name": "stderr",
     "output_type": "stream",
     "text": [
      "\r",
      " 24%|████████████████████▍                                                                 | 5/21 [01:01<03:33, 13.35s/it]"
     ]
    },
    {
     "name": "stdout",
     "output_type": "stream",
     "text": [
      "Solving nonlinear variational problem.\n",
      "  Newton iteration 0: r (abs) = 4.388e+03 (tol = 1.000e-10) r (rel) = 1.000e+00 (tol = 1.000e-09)\n",
      "  Newton iteration 1: r (abs) = 2.286e-11 (tol = 1.000e-10) r (rel) = 5.210e-15 (tol = 1.000e-09)\n",
      "  Newton solver finished in 1 iterations and 1 linear solver iterations.\n"
     ]
    },
    {
     "name": "stderr",
     "output_type": "stream",
     "text": [
      "\r",
      " 29%|████████████████████████▌                                                             | 6/21 [01:14<03:22, 13.47s/it]"
     ]
    },
    {
     "name": "stdout",
     "output_type": "stream",
     "text": [
      "Solving nonlinear variational problem.\n",
      "  Newton iteration 0: r (abs) = 4.388e+03 (tol = 1.000e-10) r (rel) = 1.000e+00 (tol = 1.000e-09)\n",
      "  Newton iteration 1: r (abs) = 2.694e-03 (tol = 1.000e-10) r (rel) = 6.139e-07 (tol = 1.000e-09)\n",
      "  Newton iteration 2: r (abs) = 6.357e-07 (tol = 1.000e-10) r (rel) = 1.449e-10 (tol = 1.000e-09)\n",
      "  Newton solver finished in 2 iterations and 2 linear solver iterations.\n"
     ]
    },
    {
     "name": "stderr",
     "output_type": "stream",
     "text": [
      "\r",
      " 33%|████████████████████████████▋                                                         | 7/21 [01:35<03:42, 15.88s/it]"
     ]
    },
    {
     "name": "stdout",
     "output_type": "stream",
     "text": [
      "Solving nonlinear variational problem.\n",
      "  Newton iteration 0: r (abs) = 4.388e+03 (tol = 1.000e-10) r (rel) = 1.000e+00 (tol = 1.000e-09)\n",
      "  Newton iteration 1: r (abs) = 1.360e+00 (tol = 1.000e-10) r (rel) = 3.100e-04 (tol = 1.000e-09)\n",
      "  Newton iteration 2: r (abs) = 4.053e-02 (tol = 1.000e-10) r (rel) = 9.238e-06 (tol = 1.000e-09)\n",
      "  Newton iteration 3: r (abs) = 6.670e-05 (tol = 1.000e-10) r (rel) = 1.520e-08 (tol = 1.000e-09)\n",
      "  Newton iteration 4: r (abs) = 2.917e-07 (tol = 1.000e-10) r (rel) = 6.648e-11 (tol = 1.000e-09)\n",
      "  Newton solver finished in 4 iterations and 4 linear solver iterations.\n"
     ]
    },
    {
     "name": "stderr",
     "output_type": "stream",
     "text": [
      "\r",
      " 38%|████████████████████████████████▊                                                     | 8/21 [02:11<04:50, 22.31s/it]"
     ]
    },
    {
     "name": "stdout",
     "output_type": "stream",
     "text": [
      "Solving nonlinear variational problem.\n",
      "  Newton iteration 0: r (abs) = 4.388e+03 (tol = 1.000e-10) r (rel) = 1.000e+00 (tol = 1.000e-09)\n",
      "  Newton iteration 1: r (abs) = 4.390e+00 (tol = 1.000e-10) r (rel) = 1.000e-03 (tol = 1.000e-09)\n",
      "  Newton iteration 2: r (abs) = 3.397e-01 (tol = 1.000e-10) r (rel) = 7.742e-05 (tol = 1.000e-09)\n",
      "  Newton iteration 3: r (abs) = 2.458e-03 (tol = 1.000e-10) r (rel) = 5.601e-07 (tol = 1.000e-09)\n",
      "  Newton iteration 4: r (abs) = 5.752e-06 (tol = 1.000e-10) r (rel) = 1.311e-09 (tol = 1.000e-09)\n",
      "  Newton iteration 5: r (abs) = 1.351e-08 (tol = 1.000e-10) r (rel) = 3.080e-12 (tol = 1.000e-09)\n",
      "  Newton solver finished in 5 iterations and 5 linear solver iterations.\n"
     ]
    },
    {
     "name": "stderr",
     "output_type": "stream",
     "text": [
      "\r",
      " 43%|████████████████████████████████████▊                                                 | 9/21 [02:56<05:50, 29.21s/it]"
     ]
    },
    {
     "name": "stdout",
     "output_type": "stream",
     "text": [
      "Solving nonlinear variational problem.\n",
      "  Newton iteration 0: r (abs) = 4.388e+03 (tol = 1.000e-10) r (rel) = 1.000e+00 (tol = 1.000e-09)\n",
      "  Newton iteration 1: r (abs) = 6.478e+00 (tol = 1.000e-10) r (rel) = 1.476e-03 (tol = 1.000e-09)\n",
      "  Newton iteration 2: r (abs) = 1.498e-01 (tol = 1.000e-10) r (rel) = 3.415e-05 (tol = 1.000e-09)\n",
      "  Newton iteration 3: r (abs) = 3.286e-04 (tol = 1.000e-10) r (rel) = 7.490e-08 (tol = 1.000e-09)\n",
      "  Newton iteration 4: r (abs) = 9.374e-07 (tol = 1.000e-10) r (rel) = 2.136e-10 (tol = 1.000e-09)\n",
      "  Newton solver finished in 4 iterations and 4 linear solver iterations.\n"
     ]
    },
    {
     "name": "stderr",
     "output_type": "stream",
     "text": [
      "\r",
      " 48%|████████████████████████████████████████▍                                            | 10/21 [03:30<05:40, 30.92s/it]"
     ]
    },
    {
     "name": "stdout",
     "output_type": "stream",
     "text": [
      "Solving nonlinear variational problem.\n",
      "  Newton iteration 0: r (abs) = 4.388e+03 (tol = 1.000e-10) r (rel) = 1.000e+00 (tol = 1.000e-09)\n",
      "  Newton iteration 1: r (abs) = 1.021e+01 (tol = 1.000e-10) r (rel) = 2.326e-03 (tol = 1.000e-09)\n",
      "  Newton iteration 2: r (abs) = 3.511e-01 (tol = 1.000e-10) r (rel) = 8.002e-05 (tol = 1.000e-09)\n",
      "  Newton iteration 3: r (abs) = 2.207e-03 (tol = 1.000e-10) r (rel) = 5.031e-07 (tol = 1.000e-09)\n",
      "  Newton iteration 4: r (abs) = 1.002e-05 (tol = 1.000e-10) r (rel) = 2.283e-09 (tol = 1.000e-09)\n",
      "  Newton iteration 5: r (abs) = 6.760e-08 (tol = 1.000e-10) r (rel) = 1.540e-11 (tol = 1.000e-09)\n",
      "  Newton solver finished in 5 iterations and 5 linear solver iterations.\n"
     ]
    },
    {
     "name": "stderr",
     "output_type": "stream",
     "text": [
      "\r",
      " 52%|████████████████████████████████████████████▌                                        | 11/21 [04:11<05:39, 33.91s/it]"
     ]
    },
    {
     "name": "stdout",
     "output_type": "stream",
     "text": [
      "Solving nonlinear variational problem.\n",
      "  Newton iteration 0: r (abs) = 4.388e+03 (tol = 1.000e-10) r (rel) = 1.000e+00 (tol = 1.000e-09)\n",
      "  Newton iteration 1: r (abs) = 1.749e+01 (tol = 1.000e-10) r (rel) = 3.986e-03 (tol = 1.000e-09)\n",
      "  Newton iteration 2: r (abs) = 1.619e+00 (tol = 1.000e-10) r (rel) = 3.689e-04 (tol = 1.000e-09)\n",
      "  Newton iteration 3: r (abs) = 1.725e-02 (tol = 1.000e-10) r (rel) = 3.931e-06 (tol = 1.000e-09)\n",
      "  Newton iteration 4: r (abs) = 2.155e-05 (tol = 1.000e-10) r (rel) = 4.911e-09 (tol = 1.000e-09)\n",
      "  Newton iteration 5: r (abs) = 4.545e-08 (tol = 1.000e-10) r (rel) = 1.036e-11 (tol = 1.000e-09)\n",
      "  Newton solver finished in 5 iterations and 5 linear solver iterations.\n"
     ]
    },
    {
     "name": "stderr",
     "output_type": "stream",
     "text": [
      "\r",
      " 57%|████████████████████████████████████████████████▌                                    | 12/21 [04:52<05:23, 35.95s/it]"
     ]
    },
    {
     "name": "stdout",
     "output_type": "stream",
     "text": [
      "Solving nonlinear variational problem.\n",
      "  Newton iteration 0: r (abs) = 4.388e+03 (tol = 1.000e-10) r (rel) = 1.000e+00 (tol = 1.000e-09)\n",
      "  Newton iteration 1: r (abs) = 2.697e+01 (tol = 1.000e-10) r (rel) = 6.146e-03 (tol = 1.000e-09)\n",
      "  Newton iteration 2: r (abs) = 5.803e+00 (tol = 1.000e-10) r (rel) = 1.322e-03 (tol = 1.000e-09)\n",
      "  Newton iteration 3: r (abs) = 7.575e-01 (tol = 1.000e-10) r (rel) = 1.726e-04 (tol = 1.000e-09)\n",
      "  Newton iteration 4: r (abs) = 7.087e-03 (tol = 1.000e-10) r (rel) = 1.615e-06 (tol = 1.000e-09)\n",
      "  Newton iteration 5: r (abs) = 8.689e-06 (tol = 1.000e-10) r (rel) = 1.980e-09 (tol = 1.000e-09)\n",
      "  Newton iteration 6: r (abs) = 1.254e-07 (tol = 1.000e-10) r (rel) = 2.857e-11 (tol = 1.000e-09)\n",
      "  Newton solver finished in 6 iterations and 6 linear solver iterations.\n"
     ]
    },
    {
     "name": "stderr",
     "output_type": "stream",
     "text": [
      "\r",
      " 62%|████████████████████████████████████████████████████▌                                | 13/21 [05:40<05:17, 39.75s/it]"
     ]
    },
    {
     "name": "stdout",
     "output_type": "stream",
     "text": [
      "Solving nonlinear variational problem.\n",
      "  Newton iteration 0: r (abs) = 4.388e+03 (tol = 1.000e-10) r (rel) = 1.000e+00 (tol = 1.000e-09)\n",
      "  Newton iteration 1: r (abs) = 4.147e+01 (tol = 1.000e-10) r (rel) = 9.450e-03 (tol = 1.000e-09)\n",
      "  Newton iteration 2: r (abs) = 8.334e+00 (tol = 1.000e-10) r (rel) = 1.899e-03 (tol = 1.000e-09)\n",
      "  Newton iteration 3: r (abs) = 4.994e-01 (tol = 1.000e-10) r (rel) = 1.138e-04 (tol = 1.000e-09)\n",
      "  Newton iteration 4: r (abs) = 1.108e-01 (tol = 1.000e-10) r (rel) = 2.525e-05 (tol = 1.000e-09)\n",
      "  Newton iteration 5: r (abs) = 4.034e-04 (tol = 1.000e-10) r (rel) = 9.192e-08 (tol = 1.000e-09)\n",
      "  Newton iteration 6: r (abs) = 1.633e-06 (tol = 1.000e-10) r (rel) = 3.721e-10 (tol = 1.000e-09)\n",
      "  Newton solver finished in 6 iterations and 6 linear solver iterations.\n"
     ]
    },
    {
     "name": "stderr",
     "output_type": "stream",
     "text": [
      "\r",
      " 67%|████████████████████████████████████████████████████████▋                            | 14/21 [06:30<04:59, 42.80s/it]"
     ]
    },
    {
     "name": "stdout",
     "output_type": "stream",
     "text": [
      "Solving nonlinear variational problem.\n",
      "  Newton iteration 0: r (abs) = 4.388e+03 (tol = 1.000e-10) r (rel) = 1.000e+00 (tol = 1.000e-09)\n",
      "  Newton iteration 1: r (abs) = 5.111e+01 (tol = 1.000e-10) r (rel) = 1.165e-02 (tol = 1.000e-09)\n",
      "  Newton iteration 2: r (abs) = 8.363e+00 (tol = 1.000e-10) r (rel) = 1.906e-03 (tol = 1.000e-09)\n",
      "  Newton iteration 3: r (abs) = 4.497e-01 (tol = 1.000e-10) r (rel) = 1.025e-04 (tol = 1.000e-09)\n",
      "  Newton iteration 4: r (abs) = 1.007e-02 (tol = 1.000e-10) r (rel) = 2.294e-06 (tol = 1.000e-09)\n",
      "  Newton iteration 5: r (abs) = 3.397e-05 (tol = 1.000e-10) r (rel) = 7.740e-09 (tol = 1.000e-09)\n",
      "  Newton iteration 6: r (abs) = 8.627e-08 (tol = 1.000e-10) r (rel) = 1.966e-11 (tol = 1.000e-09)\n",
      "  Newton solver finished in 6 iterations and 6 linear solver iterations.\n"
     ]
    },
    {
     "name": "stderr",
     "output_type": "stream",
     "text": [
      "\r",
      " 71%|████████████████████████████████████████████████████████████▋                        | 15/21 [07:22<04:32, 45.45s/it]"
     ]
    },
    {
     "name": "stdout",
     "output_type": "stream",
     "text": [
      "Solving nonlinear variational problem.\n",
      "  Newton iteration 0: r (abs) = 4.388e+03 (tol = 1.000e-10) r (rel) = 1.000e+00 (tol = 1.000e-09)\n",
      "  Newton iteration 1: r (abs) = 5.668e+01 (tol = 1.000e-10) r (rel) = 1.292e-02 (tol = 1.000e-09)\n",
      "  Newton iteration 2: r (abs) = 1.218e+01 (tol = 1.000e-10) r (rel) = 2.775e-03 (tol = 1.000e-09)\n",
      "  Newton iteration 3: r (abs) = 6.128e-01 (tol = 1.000e-10) r (rel) = 1.396e-04 (tol = 1.000e-09)\n",
      "  Newton iteration 4: r (abs) = 6.716e-03 (tol = 1.000e-10) r (rel) = 1.530e-06 (tol = 1.000e-09)\n",
      "  Newton iteration 5: r (abs) = 1.876e-05 (tol = 1.000e-10) r (rel) = 4.275e-09 (tol = 1.000e-09)\n",
      "  Newton iteration 6: r (abs) = 3.050e-07 (tol = 1.000e-10) r (rel) = 6.951e-11 (tol = 1.000e-09)\n",
      "  Newton solver finished in 6 iterations and 6 linear solver iterations.\n"
     ]
    },
    {
     "name": "stderr",
     "output_type": "stream",
     "text": [
      "\r",
      " 76%|████████████████████████████████████████████████████████████████▊                    | 16/21 [08:11<03:53, 46.73s/it]"
     ]
    },
    {
     "name": "stdout",
     "output_type": "stream",
     "text": [
      "Solving nonlinear variational problem.\n",
      "  Newton iteration 0: r (abs) = 4.389e+03 (tol = 1.000e-10) r (rel) = 1.000e+00 (tol = 1.000e-09)\n",
      "  Newton iteration 1: r (abs) = 6.418e+01 (tol = 1.000e-10) r (rel) = 1.462e-02 (tol = 1.000e-09)\n",
      "  Newton iteration 2: r (abs) = 1.357e+01 (tol = 1.000e-10) r (rel) = 3.093e-03 (tol = 1.000e-09)\n",
      "  Newton iteration 3: r (abs) = 7.540e-01 (tol = 1.000e-10) r (rel) = 1.718e-04 (tol = 1.000e-09)\n",
      "  Newton iteration 4: r (abs) = 3.476e-02 (tol = 1.000e-10) r (rel) = 7.920e-06 (tol = 1.000e-09)\n",
      "  Newton iteration 5: r (abs) = 9.590e-05 (tol = 1.000e-10) r (rel) = 2.185e-08 (tol = 1.000e-09)\n",
      "  Newton iteration 6: r (abs) = 5.661e-07 (tol = 1.000e-10) r (rel) = 1.290e-10 (tol = 1.000e-09)\n",
      "  Newton solver finished in 6 iterations and 6 linear solver iterations.\n"
     ]
    },
    {
     "name": "stderr",
     "output_type": "stream",
     "text": [
      "\r",
      " 81%|████████████████████████████████████████████████████████████████████▊                | 17/21 [09:01<03:11, 47.77s/it]"
     ]
    },
    {
     "name": "stdout",
     "output_type": "stream",
     "text": [
      "Solving nonlinear variational problem.\n",
      "  Newton iteration 0: r (abs) = 4.389e+03 (tol = 1.000e-10) r (rel) = 1.000e+00 (tol = 1.000e-09)\n",
      "  Newton iteration 1: r (abs) = 7.030e+01 (tol = 1.000e-10) r (rel) = 1.602e-02 (tol = 1.000e-09)\n",
      "  Newton iteration 2: r (abs) = 1.565e+01 (tol = 1.000e-10) r (rel) = 3.567e-03 (tol = 1.000e-09)\n",
      "  Newton iteration 3: r (abs) = 8.878e-01 (tol = 1.000e-10) r (rel) = 2.023e-04 (tol = 1.000e-09)\n",
      "  Newton iteration 4: r (abs) = 1.135e-01 (tol = 1.000e-10) r (rel) = 2.587e-05 (tol = 1.000e-09)\n",
      "  Newton iteration 5: r (abs) = 3.315e-03 (tol = 1.000e-10) r (rel) = 7.553e-07 (tol = 1.000e-09)\n",
      "  Newton iteration 6: r (abs) = 1.260e-05 (tol = 1.000e-10) r (rel) = 2.870e-09 (tol = 1.000e-09)\n",
      "  Newton iteration 7: r (abs) = 3.241e-08 (tol = 1.000e-10) r (rel) = 7.384e-12 (tol = 1.000e-09)\n",
      "  Newton solver finished in 7 iterations and 7 linear solver iterations.\n"
     ]
    },
    {
     "name": "stderr",
     "output_type": "stream",
     "text": [
      "\r",
      " 86%|████████████████████████████████████████████████████████████████████████▊            | 18/21 [09:59<02:32, 50.87s/it]"
     ]
    },
    {
     "name": "stdout",
     "output_type": "stream",
     "text": [
      "Solving nonlinear variational problem.\n",
      "  Newton iteration 0: r (abs) = 4.389e+03 (tol = 1.000e-10) r (rel) = 1.000e+00 (tol = 1.000e-09)\n",
      "  Newton iteration 1: r (abs) = 7.303e+01 (tol = 1.000e-10) r (rel) = 1.664e-02 (tol = 1.000e-09)\n",
      "  Newton iteration 2: r (abs) = 1.780e+01 (tol = 1.000e-10) r (rel) = 4.055e-03 (tol = 1.000e-09)\n",
      "  Newton iteration 3: r (abs) = 1.013e+00 (tol = 1.000e-10) r (rel) = 2.309e-04 (tol = 1.000e-09)\n",
      "  Newton iteration 4: r (abs) = 1.595e-01 (tol = 1.000e-10) r (rel) = 3.635e-05 (tol = 1.000e-09)\n",
      "  Newton iteration 5: r (abs) = 3.995e-03 (tol = 1.000e-10) r (rel) = 9.102e-07 (tol = 1.000e-09)\n",
      "  Newton iteration 6: r (abs) = 2.146e-05 (tol = 1.000e-10) r (rel) = 4.890e-09 (tol = 1.000e-09)\n",
      "  Newton iteration 7: r (abs) = 1.409e-07 (tol = 1.000e-10) r (rel) = 3.210e-11 (tol = 1.000e-09)\n",
      "  Newton solver finished in 7 iterations and 7 linear solver iterations.\n"
     ]
    },
    {
     "name": "stderr",
     "output_type": "stream",
     "text": [
      "\r",
      " 90%|████████████████████████████████████████████████████████████████████████████▉        | 19/21 [11:03<01:49, 54.79s/it]"
     ]
    },
    {
     "name": "stdout",
     "output_type": "stream",
     "text": [
      "Solving nonlinear variational problem.\n",
      "  Newton iteration 0: r (abs) = 4.389e+03 (tol = 1.000e-10) r (rel) = 1.000e+00 (tol = 1.000e-09)\n",
      "  Newton iteration 1: r (abs) = 7.597e+01 (tol = 1.000e-10) r (rel) = 1.731e-02 (tol = 1.000e-09)\n",
      "  Newton iteration 2: r (abs) = 2.057e+01 (tol = 1.000e-10) r (rel) = 4.687e-03 (tol = 1.000e-09)\n",
      "  Newton iteration 3: r (abs) = 1.031e+00 (tol = 1.000e-10) r (rel) = 2.350e-04 (tol = 1.000e-09)\n",
      "  Newton iteration 4: r (abs) = 1.688e-01 (tol = 1.000e-10) r (rel) = 3.846e-05 (tol = 1.000e-09)\n",
      "  Newton iteration 5: r (abs) = 5.270e-03 (tol = 1.000e-10) r (rel) = 1.201e-06 (tol = 1.000e-09)\n",
      "  Newton iteration 6: r (abs) = 1.218e-05 (tol = 1.000e-10) r (rel) = 2.775e-09 (tol = 1.000e-09)\n",
      "  Newton iteration 7: r (abs) = 2.758e-08 (tol = 1.000e-10) r (rel) = 6.283e-12 (tol = 1.000e-09)\n",
      "  Newton solver finished in 7 iterations and 7 linear solver iterations.\n"
     ]
    },
    {
     "name": "stderr",
     "output_type": "stream",
     "text": [
      "\r",
      " 95%|████████████████████████████████████████████████████████████████████████████████▉    | 20/21 [12:01<00:55, 55.61s/it]"
     ]
    },
    {
     "name": "stdout",
     "output_type": "stream",
     "text": [
      "Solving nonlinear variational problem.\n",
      "  Newton iteration 0: r (abs) = 4.389e+03 (tol = 1.000e-10) r (rel) = 1.000e+00 (tol = 1.000e-09)\n",
      "  Newton iteration 1: r (abs) = 7.784e+01 (tol = 1.000e-10) r (rel) = 1.773e-02 (tol = 1.000e-09)\n",
      "  Newton iteration 2: r (abs) = 2.215e+01 (tol = 1.000e-10) r (rel) = 5.046e-03 (tol = 1.000e-09)\n",
      "  Newton iteration 3: r (abs) = 9.598e-01 (tol = 1.000e-10) r (rel) = 2.187e-04 (tol = 1.000e-09)\n",
      "  Newton iteration 4: r (abs) = 9.544e-02 (tol = 1.000e-10) r (rel) = 2.175e-05 (tol = 1.000e-09)\n",
      "  Newton iteration 5: r (abs) = 1.298e-03 (tol = 1.000e-10) r (rel) = 2.958e-07 (tol = 1.000e-09)\n",
      "  Newton iteration 6: r (abs) = 7.961e-07 (tol = 1.000e-10) r (rel) = 1.814e-10 (tol = 1.000e-09)\n",
      "  Newton solver finished in 6 iterations and 6 linear solver iterations.\n"
     ]
    },
    {
     "name": "stderr",
     "output_type": "stream",
     "text": [
      "100%|█████████████████████████████████████████████████████████████████████████████████████| 21/21 [12:53<00:00, 36.85s/it]\n"
     ]
    }
   ],
   "source": [
    "ep, sig, u, sig_Mis, ep_Mis = solve_plastic_system(mesh, Time, num_steps, Constitutive_function)"
   ]
  },
  {
   "cell_type": "code",
   "execution_count": 10,
   "id": "e6ef835a",
   "metadata": {},
   "outputs": [
    {
     "data": {
      "text/plain": [
       "<matplotlib.collections.TriMesh at 0x7f9e655504c0>"
      ]
     },
     "execution_count": 10,
     "metadata": {},
     "output_type": "execute_result"
    },
    {
     "data": {
      "image/png": "[encoded data removed]",
      "text/plain": [
       "<Figure size 432x288 with 1 Axes>"
      ]
     },
     "metadata": {
      "needs_background": "light"
     },
     "output_type": "display_data"
    }
   ],
   "source": [
    "S = FunctionSpace(mesh, 'P', 2)\n",
    "sigma_Mis = project(mis_sig(sig),S)\n",
    "plot(sig_Mis, mode='color')"
   ]
  },
  {
   "cell_type": "code",
   "execution_count": null,
   "id": "fe06db6f",
   "metadata": {},
   "outputs": [],
   "source": []
  }
 ],
 "metadata": {
  "kernelspec": {
   "display_name": "Python 3 (ipykernel)",
   "language": "python",
   "name": "python3"
  },
  "language_info": {
   "codemirror_mode": {
    "name": "ipython",
    "version": 3
   },
   "file_extension": ".py",
   "mimetype": "text/x-python",
   "name": "python",
   "nbconvert_exporter": "python",
   "pygments_lexer": "ipython3",
   "version": "3.8.10"
  },
  "toc": {
   "base_numbering": 1,
   "nav_menu": {},
   "number_sections": true,
   "sideBar": true,
   "skip_h1_title": false,
   "title_cell": "Table of Contents",
   "title_sidebar": "Contents",
   "toc_cell": false,
   "toc_position": {},
   "toc_section_display": true,
   "toc_window_display": false
  },
  "varInspector": {
   "cols": {
    "lenName": 16,
    "lenType": 16,
    "lenVar": 40
   },
   "kernels_config": {
    "python": {
     "delete_cmd_postfix": "",
     "delete_cmd_prefix": "del ",
     "library": "var_list.py",
     "varRefreshCmd": "print(var_dic_list())"
    },
    "r": {
     "delete_cmd_postfix": ") ",
     "delete_cmd_prefix": "rm(",
     "library": "var_list.r",
     "varRefreshCmd": "cat(var_dic_list()) "
    }
   },
   "types_to_exclude": [
    "module",
    "function",
    "builtin_function_or_method",
    "instance",
    "_Feature"
   ],
   "window_display": false
  }
 },
 "nbformat": 4,
 "nbformat_minor": 5
}
