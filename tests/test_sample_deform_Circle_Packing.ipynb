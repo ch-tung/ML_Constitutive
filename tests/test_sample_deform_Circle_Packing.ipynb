{
 "cells": [
  {
   "cell_type": "code",
   "execution_count": 1,
   "id": "5819bf95",
   "metadata": {},
   "outputs": [],
   "source": [
    "from __future__ import print_function\n",
    "from fenics import *\n",
    "# from dolfin_adjoint import *\n",
    "import mshr\n",
    "import numpy as np"
   ]
  },
  {
   "cell_type": "markdown",
   "id": "0f4ee2ac",
   "metadata": {},
   "source": [
    "### Create mesh and define function space"
   ]
  },
  {
   "cell_type": "code",
   "execution_count": 2,
   "id": "c7fa2e35",
   "metadata": {},
   "outputs": [],
   "source": [
    "# Create mesh and define function space\n",
    "filepath = 'test_sample_deform/circle_packing_tilt/'"
   ]
  },
  {
   "cell_type": "code",
   "execution_count": 3,
   "id": "48f0f9e4",
   "metadata": {},
   "outputs": [
    {
     "data": {
      "text/plain": [
       "[0, 1, 2, 3, 5, 6, 7, 8]"
      ]
     },
     "execution_count": 3,
     "metadata": {},
     "output_type": "execute_result"
    }
   ],
   "source": [
    "# Sample Geometry\n",
    "L = 1\n",
    "H = 1\n",
    "cx = [.20,.50,.80,.25,.50,.75,.20,.50,.80]\n",
    "cy = [.20,.25,.20,.50,.50,.50,.80,.75,.80]\n",
    "R = [.125,.16,.125,.16,0,.16,.125,.16,.125]\n",
    "\n",
    "Circle_i = lambda i: mshr.Circle(Point(cx[i],cy[i]), R[i])\n",
    "Circles = list(map(Circle_i, [i for i, e in enumerate(R) if e != 0]))\n",
    "[i for i, e in enumerate(R) if e != 0]"
   ]
  },
  {
   "cell_type": "code",
   "execution_count": 4,
   "id": "a7746091",
   "metadata": {},
   "outputs": [
    {
     "data": {
      "text/plain": [
       "[<matplotlib.lines.Line2D at 0x7f8e19b35fd0>,\n",
       " <matplotlib.lines.Line2D at 0x7f8e19ad02b0>]"
      ]
     },
     "execution_count": 4,
     "metadata": {},
     "output_type": "execute_result"
    },
    {
     "data": {
      "image/png": "[encoded data removed]",
      "text/plain": [
       "<Figure size 432x288 with 1 Axes>"
      ]
     },
     "metadata": {
      "needs_background": "light"
     },
     "output_type": "display_data"
    }
   ],
   "source": [
    "L = 1\n",
    "H = 1\n",
    "def hole(obj,holes):\n",
    "    obj_with_holes = obj\n",
    "    for i in range(len(holes)):\n",
    "        obj_with_holes = obj_with_holes - holes[i]\n",
    "    return obj_with_holes\n",
    "\n",
    "domain = hole(mshr.Rectangle(Point(0.,0.), Point(L, H)),Circles)\n",
    "mesh = mshr.generate_mesh(domain, 100)\n",
    "n_elements = mesh.coordinates().shape[0]\n",
    "plot(mesh)"
   ]
  },
  {
   "cell_type": "markdown",
   "id": "5047cf65",
   "metadata": {},
   "source": [
    "### Constitutive relation"
   ]
  },
  {
   "cell_type": "code",
   "execution_count": 5,
   "id": "5afe7ecc",
   "metadata": {},
   "outputs": [],
   "source": [
    "# Mechanical Properties\n",
    "E = Constant(1)\n",
    "nu = Constant(0.3)\n",
    "sigma_y0 = Constant(0.5) # yield stress\n",
    "\n",
    "mu = E/2/(1+nu)\n",
    "lmbda = E*nu/(1+nu)/(1-2*nu)\n",
    "lmbda = 2*mu*lmbda/(lmbda+2*mu)"
   ]
  },
  {
   "cell_type": "code",
   "execution_count": 6,
   "id": "1acf5c3b",
   "metadata": {},
   "outputs": [],
   "source": [
    "def sigmoid(x):\n",
    "    s = 1/(1+exp(-x))\n",
    "    return s\n",
    "def tanh(x):\n",
    "    t = (exp(2*x)-1)/(exp(2*x)+1)\n",
    "    return t"
   ]
  },
  {
   "cell_type": "code",
   "execution_count": 7,
   "id": "360b4913",
   "metadata": {},
   "outputs": [],
   "source": [
    "# Constitutive relation\n",
    "def epsilon(u):\n",
    "    return sym(grad(u))\n",
    "\n",
    "def sigma_el(epsilon):\n",
    "    return lmbda*tr(epsilon)*Identity(2) + 2*mu*epsilon\n",
    "\n",
    "def sigma_yield(epsilon):\n",
    "    return sigma_y0 + 0.1*sigma_y0*tanh(epsilon*10)\n",
    "\n",
    "def epsilon_pl(d_epsilon, sigma_old, epsilon_old):\n",
    "    '''\n",
    "    inputs\n",
    "    d_epsilon: strain increment\n",
    "    sigma_old: stress tensor at the increment n\n",
    "    epsilon_old: plastic strain tensor\n",
    "    '''\n",
    "    kappa = Constant(100)\n",
    "    \n",
    "    sigma_y = sigma_yield(epsilon_old)\n",
    "    H = diff(sigma_y, epsilon_old)\n",
    "    \n",
    "    sigma_pr = sigma_old + sigma_el(d_epsilon) # trial stress\n",
    "    sigma_pr_dev = dev(sigma_pr) # deviatoric elastic stress\n",
    "    sigma_ef = sqrt(3/2.*inner(sigma_pr_dev, sigma_pr_dev) + DOLFIN_EPS) # effective von Mises stress\n",
    "    \n",
    "    sgn = (sigma_ef - sigma_y)/(abs(sigma_ef - sigma_y) + DOLFIN_EPS)\n",
    "    f_sigmoid = sigmoid(kappa*(sigma_ef - sigma_y)*sgn) # the indicator function\n",
    "    f_ind = (f_sigmoid-0.5)*sgn + 0.5\n",
    "    \n",
    "    d_epsilon_pl_sc = f_ind*(sigma_ef - sigma_y)/(3*mu + H) # plastic strain increment (scalar)\n",
    "    n_pr = dev(sigma_pr) / sigma_ef\n",
    "    d_epsilon_pl = d_epsilon_pl_sc*3/2*n_pr\n",
    "    \n",
    "    return d_epsilon_pl\n",
    "\n",
    "def Constitutive_function(sig_n, du, ep_n, dt=1E-3):\n",
    "    d_epsilon_el = epsilon(du) # elastic strain increment\n",
    "    d_epsilon_pl = epsilon_pl(d_epsilon_el,sig_n,ep_n) # plastic strain increment\n",
    "    d_epsilon = d_epsilon_el - d_epsilon_pl\n",
    "    scalar_d_epsilon = sqrt(inner(d_epsilon,d_epsilon)*2.0/3.0 + DOLFIN_EPS)\n",
    "    return sig_n + sigma_el(d_epsilon), scalar_d_epsilon"
   ]
  },
  {
   "cell_type": "code",
   "execution_count": 8,
   "id": "7c2671a6",
   "metadata": {},
   "outputs": [],
   "source": [
    "def mis_ep(u):\n",
    "    eps_dev = epsilon(u) - Identity(2)*tr(epsilon(u))\n",
    "    mis = sqrt(3/2*inner(eps_dev,eps_dev))\n",
    "    return mis\n",
    "\n",
    "def mis_sig(sig):\n",
    "    sigma_dev = sig - Identity(2)*tr(sig)\n",
    "    mis = sqrt(3/2*inner(sigma_dev,sigma_dev))\n",
    "    return mis"
   ]
  },
  {
   "cell_type": "code",
   "execution_count": 9,
   "id": "64db7ebb",
   "metadata": {},
   "outputs": [],
   "source": [
    "Time = 20\n",
    "num_steps = 20\n",
    "e_tot = 0.1\n",
    "\n",
    "def solve_plastic_system(mesh, Time, num_steps, constitutive_func, loss_func=lambda n,x: 0):\n",
    "    dt = Time / num_steps # time step size\n",
    "    tol = 1.0E-14\n",
    "    \n",
    "    # Define function space for displacement\n",
    "    S = FunctionSpace(mesh, 'P', 1)\n",
    "    V = VectorFunctionSpace(mesh, 'P', 1)\n",
    "    T = TensorFunctionSpace(mesh, 'P', 1)\n",
    "    \n",
    "    # Define test functions\n",
    "    v  = TestFunction(V)\n",
    "    du = TrialFunction(V)\n",
    "    \n",
    "    # Define functions for dsiplacement\n",
    "    u     = Function(V)\n",
    "    u_n   = Function(V)\n",
    "    sig   = Function(T)\n",
    "    sig_n = Function(T)\n",
    "    ep    = Function(S)\n",
    "    ep_n  = Function(S)\n",
    "\n",
    "    # Define boundary \n",
    "    tol = 1E-14\n",
    "    def BC_y0(x, on_boundary):\n",
    "        return on_boundary and near(x[1], 0, tol)\n",
    "    def BC_y1(x, on_boundary):\n",
    "        return on_boundary and near(x[1], 1, tol)\n",
    "    bcD = DirichletBC(V.sub(1), 0,    BC_y0)\n",
    "    def BC_corner(x, on_boundary):\n",
    "        return near(x[1], 0, tol) and near(x[0], 0, 1e-2)\n",
    "    bc_corner = DirichletBC(V.sub(0), 0,    BC_corner)\n",
    "    \n",
    "    \n",
    "    # Time-stepping\n",
    "    t = 0\n",
    "    results = []\n",
    "    \n",
    "    File_displacement = File(filepath+'displacement_AG.pvd')\n",
    "    File_stress_Mis = File(filepath+'stress_Mis_AG.pvd')\n",
    "    File_strain_Mis = File(filepath+'strain_Mis_AG.pvd')\n",
    "    File_strain_AG = File(filepath+'strain_AG.pvd')\n",
    "    File_stess_AG = File(filepath+'stess_AG.pvd')\n",
    "    \n",
    "    array_u = np.zeros((n_elements,2,num_steps+1))\n",
    "    array_sigma = np.zeros((n_elements,2,2,num_steps+1))\n",
    "    array_epsilon = np.zeros((n_elements,2,2,num_steps+1))\n",
    "    \n",
    "    for n in range(num_steps+1):\n",
    "        print(n)\n",
    "        displacement = float(e_tot/num_steps*n)\n",
    "        bcU = DirichletBC(V.sub(1), displacement, BC_y1)\n",
    "        BC = [bcU, bcD, bc_corner]\n",
    "        \n",
    "        # Define variational problem\n",
    "        sig, dep = constitutive_func(sig_n, u-u_n, ep_n, dt=dt)\n",
    "        F = inner(sig, epsilon(v))*dx\n",
    "        \n",
    "        # Update current time\n",
    "        t = t + dt\n",
    "        \n",
    "        # Solve variational problem for time step\n",
    "        J = derivative(F, u, du)\n",
    "        problem = NonlinearVariationalProblem(F, u, BC, J)\n",
    "        solver = NonlinearVariationalSolver(problem)\n",
    "        solver.solve()\n",
    "        \n",
    "        # Update previous solution\n",
    "        sig = project(sig, T)\n",
    "        ep = project(ep_n+dep, S)\n",
    "        \n",
    "        sig_n.assign(sig)\n",
    "        u_n.assign(u)\n",
    "        ep_n.assign(ep)\n",
    "        print('end')\n",
    "        \n",
    "        # Save solution to file in VTK format\n",
    "        sig_Mis = project(mis_sig(sig),S)\n",
    "        ep_Mis = project(mis_ep(u),S)\n",
    "#         sig_Mis = mis_sig(sig)\n",
    "#         ep_Mis = mis_ep(u)\n",
    "        epsilon_u = epsilon(u)\n",
    "        \n",
    "        u.rename('$u$','displacement')\n",
    "        sig.rename('$\\sigma$','stress')\n",
    "        ep.rename('$\\epsilon$','strain')\n",
    "        sig_Mis.rename('$\\sigma_{VM}$','stress_Mis')\n",
    "        ep_Mis.rename('$\\epsilon_{VM}$','strain_Mis')\n",
    "        \n",
    "        File_displacement << (u,t)\n",
    "        File_stress_Mis << (sig_Mis,t)\n",
    "        File_strain_Mis << (ep_Mis)\n",
    "        File_strain_AG << (ep,t)\n",
    "        File_stess_AG << (sig,t)\n",
    "        \n",
    "        # Save element vectors in .mat format\n",
    "        from scipy.io import savemat\n",
    "        array_u[:,:,n] = np.array(u.vector()).reshape(n_elements,2)\n",
    "        \n",
    "        epsilon_u = epsilon(u)\n",
    "        epsilon_u = project(epsilon(u),T)\n",
    "        array_epsilon[:,:,:,n] = np.array(epsilon_u.vector()).reshape(n_elements,2,2)\n",
    "        \n",
    "        array_sigma[:,:,:,n] = np.array(sig.vector()).reshape(n_elements,2,2)\n",
    "        \n",
    "    mdic = {'u':array_u, 'epsilon':array_epsilon, 'sigma':array_sigma}\n",
    "    savemat(filepath+'data.mat', mdic)\n",
    "        \n",
    "    return ep, sig, u, sig_Mis, ep_Mis"
   ]
  },
  {
   "cell_type": "code",
   "execution_count": 10,
   "id": "1638871a",
   "metadata": {
    "scrolled": false
   },
   "outputs": [
    {
     "name": "stdout",
     "output_type": "stream",
     "text": [
      "0\n",
      "Solving nonlinear variational problem.\n",
      "  Newton iteration 0: r (abs) = 0.000e+00 (tol = 1.000e-10) r (rel) = -nan (tol = 1.000e-09)\n",
      "  Newton solver finished in 0 iterations and 0 linear solver iterations.\n",
      "end\n",
      "1\n",
      "Solving nonlinear variational problem.\n",
      "  Newton iteration 0: r (abs) = 1.833e-01 (tol = 1.000e-10) r (rel) = 1.000e+00 (tol = 1.000e-09)\n",
      "  Newton iteration 1: r (abs) = 3.460e-12 (tol = 1.000e-10) r (rel) = 1.887e-11 (tol = 1.000e-09)\n",
      "  Newton solver finished in 1 iterations and 1 linear solver iterations.\n",
      "end\n",
      "2\n",
      "Solving nonlinear variational problem.\n",
      "  Newton iteration 0: r (abs) = 1.833e-01 (tol = 1.000e-10) r (rel) = 1.000e+00 (tol = 1.000e-09)\n",
      "  Newton iteration 1: r (abs) = 2.170e-16 (tol = 1.000e-10) r (rel) = 1.183e-15 (tol = 1.000e-09)\n",
      "  Newton solver finished in 1 iterations and 1 linear solver iterations.\n",
      "end\n",
      "3\n",
      "Solving nonlinear variational problem.\n",
      "  Newton iteration 0: r (abs) = 1.833e-01 (tol = 1.000e-10) r (rel) = 1.000e+00 (tol = 1.000e-09)\n",
      "  Newton iteration 1: r (abs) = 2.250e-16 (tol = 1.000e-10) r (rel) = 1.227e-15 (tol = 1.000e-09)\n",
      "  Newton solver finished in 1 iterations and 1 linear solver iterations.\n",
      "end\n",
      "4\n",
      "Solving nonlinear variational problem.\n",
      "  Newton iteration 0: r (abs) = 1.833e-01 (tol = 1.000e-10) r (rel) = 1.000e+00 (tol = 1.000e-09)\n",
      "  Newton iteration 1: r (abs) = 2.657e-16 (tol = 1.000e-10) r (rel) = 1.449e-15 (tol = 1.000e-09)\n",
      "  Newton solver finished in 1 iterations and 1 linear solver iterations.\n",
      "end\n",
      "5\n",
      "Solving nonlinear variational problem.\n",
      "  Newton iteration 0: r (abs) = 1.833e-01 (tol = 1.000e-10) r (rel) = 1.000e+00 (tol = 1.000e-09)\n",
      "  Newton iteration 1: r (abs) = 2.865e-16 (tol = 1.000e-10) r (rel) = 1.563e-15 (tol = 1.000e-09)\n",
      "  Newton solver finished in 1 iterations and 1 linear solver iterations.\n",
      "end\n",
      "6\n",
      "Solving nonlinear variational problem.\n",
      "  Newton iteration 0: r (abs) = 1.833e-01 (tol = 1.000e-10) r (rel) = 1.000e+00 (tol = 1.000e-09)\n",
      "  Newton iteration 1: r (abs) = 2.935e-16 (tol = 1.000e-10) r (rel) = 1.601e-15 (tol = 1.000e-09)\n",
      "  Newton solver finished in 1 iterations and 1 linear solver iterations.\n",
      "end\n",
      "7\n",
      "Solving nonlinear variational problem.\n",
      "  Newton iteration 0: r (abs) = 1.833e-01 (tol = 1.000e-10) r (rel) = 1.000e+00 (tol = 1.000e-09)\n",
      "  Newton iteration 1: r (abs) = 3.851e-16 (tol = 1.000e-10) r (rel) = 2.101e-15 (tol = 1.000e-09)\n",
      "  Newton solver finished in 1 iterations and 1 linear solver iterations.\n",
      "end\n",
      "8\n",
      "Solving nonlinear variational problem.\n",
      "  Newton iteration 0: r (abs) = 1.833e-01 (tol = 1.000e-10) r (rel) = 1.000e+00 (tol = 1.000e-09)\n",
      "  Newton iteration 1: r (abs) = 4.124e-16 (tol = 1.000e-10) r (rel) = 2.249e-15 (tol = 1.000e-09)\n",
      "  Newton solver finished in 1 iterations and 1 linear solver iterations.\n",
      "end\n",
      "9\n",
      "Solving nonlinear variational problem.\n",
      "  Newton iteration 0: r (abs) = 1.833e-01 (tol = 1.000e-10) r (rel) = 1.000e+00 (tol = 1.000e-09)\n",
      "  Newton iteration 1: r (abs) = 4.256e-16 (tol = 1.000e-10) r (rel) = 2.322e-15 (tol = 1.000e-09)\n",
      "  Newton solver finished in 1 iterations and 1 linear solver iterations.\n",
      "end\n",
      "10\n",
      "Solving nonlinear variational problem.\n",
      "  Newton iteration 0: r (abs) = 1.833e-01 (tol = 1.000e-10) r (rel) = 1.000e+00 (tol = 1.000e-09)\n",
      "  Newton iteration 1: r (abs) = 4.451e-16 (tol = 1.000e-10) r (rel) = 2.428e-15 (tol = 1.000e-09)\n",
      "  Newton solver finished in 1 iterations and 1 linear solver iterations.\n",
      "end\n",
      "11\n",
      "Solving nonlinear variational problem.\n",
      "  Newton iteration 0: r (abs) = 1.833e-01 (tol = 1.000e-10) r (rel) = 1.000e+00 (tol = 1.000e-09)\n",
      "  Newton iteration 1: r (abs) = 4.724e-16 (tol = 1.000e-10) r (rel) = 2.577e-15 (tol = 1.000e-09)\n",
      "  Newton solver finished in 1 iterations and 1 linear solver iterations.\n",
      "end\n",
      "12\n",
      "Solving nonlinear variational problem.\n",
      "  Newton iteration 0: r (abs) = 1.833e-01 (tol = 1.000e-10) r (rel) = 1.000e+00 (tol = 1.000e-09)\n",
      "  Newton iteration 1: r (abs) = 4.726e-16 (tol = 1.000e-10) r (rel) = 2.578e-15 (tol = 1.000e-09)\n",
      "  Newton solver finished in 1 iterations and 1 linear solver iterations.\n",
      "end\n",
      "13\n",
      "Solving nonlinear variational problem.\n",
      "  Newton iteration 0: r (abs) = 1.833e-01 (tol = 1.000e-10) r (rel) = 1.000e+00 (tol = 1.000e-09)\n",
      "  Newton iteration 1: r (abs) = 6.629e-16 (tol = 1.000e-10) r (rel) = 3.616e-15 (tol = 1.000e-09)\n",
      "  Newton solver finished in 1 iterations and 1 linear solver iterations.\n",
      "end\n",
      "14\n",
      "Solving nonlinear variational problem.\n",
      "  Newton iteration 0: r (abs) = 1.833e-01 (tol = 1.000e-10) r (rel) = 1.000e+00 (tol = 1.000e-09)\n",
      "  Newton iteration 1: r (abs) = 6.899e-16 (tol = 1.000e-10) r (rel) = 3.763e-15 (tol = 1.000e-09)\n",
      "  Newton solver finished in 1 iterations and 1 linear solver iterations.\n",
      "end\n",
      "15\n",
      "Solving nonlinear variational problem.\n",
      "  Newton iteration 0: r (abs) = 1.833e-01 (tol = 1.000e-10) r (rel) = 1.000e+00 (tol = 1.000e-09)\n",
      "  Newton iteration 1: r (abs) = 7.138e-16 (tol = 1.000e-10) r (rel) = 3.893e-15 (tol = 1.000e-09)\n",
      "  Newton solver finished in 1 iterations and 1 linear solver iterations.\n",
      "end\n",
      "16\n",
      "Solving nonlinear variational problem.\n",
      "  Newton iteration 0: r (abs) = 1.833e-01 (tol = 1.000e-10) r (rel) = 1.000e+00 (tol = 1.000e-09)\n",
      "  Newton iteration 1: r (abs) = 7.501e-16 (tol = 1.000e-10) r (rel) = 4.091e-15 (tol = 1.000e-09)\n",
      "  Newton solver finished in 1 iterations and 1 linear solver iterations.\n",
      "end\n",
      "17\n",
      "Solving nonlinear variational problem.\n",
      "  Newton iteration 0: r (abs) = 1.833e-01 (tol = 1.000e-10) r (rel) = 1.000e+00 (tol = 1.000e-09)\n",
      "  Newton iteration 1: r (abs) = 7.717e-16 (tol = 1.000e-10) r (rel) = 4.209e-15 (tol = 1.000e-09)\n",
      "  Newton solver finished in 1 iterations and 1 linear solver iterations.\n",
      "end\n",
      "18\n",
      "Solving nonlinear variational problem.\n",
      "  Newton iteration 0: r (abs) = 1.833e-01 (tol = 1.000e-10) r (rel) = 1.000e+00 (tol = 1.000e-09)\n",
      "  Newton iteration 1: r (abs) = 7.784e-16 (tol = 1.000e-10) r (rel) = 4.246e-15 (tol = 1.000e-09)\n",
      "  Newton solver finished in 1 iterations and 1 linear solver iterations.\n",
      "end\n",
      "19\n",
      "Solving nonlinear variational problem.\n",
      "  Newton iteration 0: r (abs) = 1.833e-01 (tol = 1.000e-10) r (rel) = 1.000e+00 (tol = 1.000e-09)\n",
      "  Newton iteration 1: r (abs) = 8.225e-16 (tol = 1.000e-10) r (rel) = 4.486e-15 (tol = 1.000e-09)\n",
      "  Newton solver finished in 1 iterations and 1 linear solver iterations.\n",
      "end\n",
      "20\n",
      "Solving nonlinear variational problem.\n",
      "  Newton iteration 0: r (abs) = 1.833e-01 (tol = 1.000e-10) r (rel) = 1.000e+00 (tol = 1.000e-09)\n",
      "  Newton iteration 1: r (abs) = 8.233e-16 (tol = 1.000e-10) r (rel) = 4.491e-15 (tol = 1.000e-09)\n",
      "  Newton solver finished in 1 iterations and 1 linear solver iterations.\n",
      "end\n"
     ]
    }
   ],
   "source": [
    "ep, sig, u, sig_Mis, ep_Mis = solve_plastic_system(mesh, Time, num_steps, Constitutive_function)"
   ]
  },
  {
   "cell_type": "code",
   "execution_count": 11,
   "id": "e6ef835a",
   "metadata": {},
   "outputs": [
    {
     "data": {
      "text/plain": [
       "<matplotlib.collections.TriMesh at 0x7f8e10377940>"
      ]
     },
     "execution_count": 11,
     "metadata": {},
     "output_type": "execute_result"
    },
    {
     "data": {
      "image/png": "[encoded data removed]",
      "text/plain": [
       "<Figure size 432x288 with 1 Axes>"
      ]
     },
     "metadata": {
      "needs_background": "light"
     },
     "output_type": "display_data"
    }
   ],
   "source": [
    "S = FunctionSpace(mesh, 'P', 1)\n",
    "sigma_Mis = project(mis_sig(sig),S)\n",
    "plot(sig_Mis, mode='color')"
   ]
  },
  {
   "cell_type": "code",
   "execution_count": null,
   "id": "a7e8ad7a",
   "metadata": {},
   "outputs": [],
   "source": []
  }
 ],
 "metadata": {
  "kernelspec": {
   "display_name": "Python 3 (ipykernel)",
   "language": "python",
   "name": "python3"
  },
  "language_info": {
   "codemirror_mode": {
    "name": "ipython",
    "version": 3
   },
   "file_extension": ".py",
   "mimetype": "text/x-python",
   "name": "python",
   "nbconvert_exporter": "python",
   "pygments_lexer": "ipython3",
   "version": "3.8.10"
  }
 },
 "nbformat": 4,
 "nbformat_minor": 5
}
