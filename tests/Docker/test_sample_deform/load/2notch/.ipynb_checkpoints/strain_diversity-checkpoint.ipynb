{
 "cells": [
  {
   "cell_type": "code",
   "execution_count": 1,
   "metadata": {},
   "outputs": [],
   "source": [
    "import numpy as np\n",
    "import matplotlib.pyplot as plt\n",
    "from scipy.io import loadmat\n",
    "from RSHE import RSHEscore\n",
    "from tqdm import tqdm"
   ]
  },
  {
   "cell_type": "markdown",
   "metadata": {},
   "source": [
    "## load data"
   ]
  },
  {
   "cell_type": "code",
   "execution_count": 2,
   "metadata": {},
   "outputs": [],
   "source": [
    "filename = 'data.mat'\n",
    "epsilon = loadmat(filename)['epsilon']\n",
    "n_element = epsilon.shape[0]"
   ]
  },
  {
   "cell_type": "markdown",
   "metadata": {},
   "source": [
    "## Calculate anisotropic score"
   ]
  },
  {
   "cell_type": "code",
   "execution_count": 3,
   "metadata": {},
   "outputs": [],
   "source": [
    "n_frame = epsilon.shape[3]\n",
    "strain = np.arange(n_frame)/(n_frame-1)*0.05\n",
    "p = np.zeros((n_element,5,n_frame))\n",
    "p_ave = np.zeros((5,n_frame))\n",
    "p_std = np.zeros((5,n_frame))"
   ]
  },
  {
   "cell_type": "code",
   "execution_count": null,
   "metadata": {},
   "outputs": [
    {
     "name": "stderr",
     "output_type": "stream",
     "text": [
      " 63%|██████▎   | 26/41 [04:01<02:23,  9.57s/it]"
     ]
    }
   ],
   "source": [
    "for it in tqdm(range(n_frame)):\n",
    "    epsilon_t = epsilon[:,:,:,it].reshape(n_element,4)\n",
    "    \n",
    "    for ie in range(n_element):\n",
    "        p[ie,:,it] = RSHEscore(epsilon_t[ie,[0,3,1]]) # xx, yy, xy\n",
    "        \n",
    "    p_ave[:,it] = np.mean(p[:,:,it],axis=0)\n",
    "    p_std[:,it] = np.std(p[:,:,it],axis=0)"
   ]
  },
  {
   "cell_type": "code",
   "execution_count": null,
   "metadata": {},
   "outputs": [],
   "source": [
    "from scipy.io import savemat\n",
    "mdic = {'p':p, 'p_ave':p_ave, 'p_std':p_std}\n",
    "filename_export = 'diversity.mat'\n",
    "savemat(filename_export, mdic)"
   ]
  },
  {
   "cell_type": "markdown",
   "metadata": {},
   "source": [
    "## Plot the result"
   ]
  },
  {
   "cell_type": "code",
   "execution_count": null,
   "metadata": {},
   "outputs": [],
   "source": [
    "p_ave = loadmat(filename_export)['p_ave']\n",
    "p_std = loadmat(filename_export)['p_std']"
   ]
  },
  {
   "cell_type": "code",
   "execution_count": null,
   "metadata": {},
   "outputs": [],
   "source": [
    "import matplotlib.pyplot as plt"
   ]
  },
  {
   "cell_type": "code",
   "execution_count": null,
   "metadata": {},
   "outputs": [],
   "source": [
    "fig = plt.figure(figsize=(6, 6))\n",
    "ax = plt.subplot(1, 1, 1)\n",
    "\n",
    "colors = [[0, 0.4470, 0.7410],\n",
    "          [0.8500, 0.3250, 0.0980],\n",
    "          [0.9290, 0.6940, 0.1250],\n",
    "          [0.4940, 0.1840, 0.5560],\n",
    "          [0.4660, 0.6740, 0.1880]]\n",
    "\n",
    "for i in range(5):\n",
    "    ax.fill_between(strain*100,p_ave[i,:]+p_std[i,:],p_ave[i,:]-p_std[i,:],color=colors[i],alpha=0.25)\n",
    "    ax.plot(strain*100,p_ave[i,:],'-',color=colors[i])\n",
    "    \n",
    "ax.set_xlim(0, 5)\n",
    "ax.set_ylim(-0.1, 1.1)\n",
    "ax.set_xlabel('strain (%)',fontsize=24)\n",
    "ax.set_ylabel('$p_{l,m}$',fontsize=24)\n",
    "ax.tick_params(which='both', labelsize=20)\n",
    "\n",
    "pngname = 'diversity.png'\n",
    "plt.savefig(pngname, dpi=96, bbox_inches='tight')"
   ]
  },
  {
   "cell_type": "code",
   "execution_count": null,
   "metadata": {},
   "outputs": [],
   "source": [
    "fig = plt.figure(figsize=(6, 6))\n",
    "ax = plt.subplot(1, 1, 1)\n",
    "\n",
    "colors = [[0, 0.4470, 0.7410],\n",
    "          [0.8500, 0.3250, 0.0980],\n",
    "          [0.9290, 0.6940, 0.1250],\n",
    "          [0.4940, 0.1840, 0.5560],\n",
    "          [0.4660, 0.6740, 0.1880]]\n",
    "\n",
    "for i in range(5):\n",
    "    ax.fill_between(strain*100,p_ave[i,:]+p_std[i,:],p_ave[i,:]-p_std[i,:],color=colors[i],alpha=0.25)\n",
    "    ax.plot(strain*100,p_ave[i,:],'-',color=colors[i])\n",
    "    \n",
    "ax.set_xlim(0, 5)\n",
    "ax.set_ylim(-0.1, 0.1)\n",
    "ax.set_yticks([-1e-1, -5e-2, 0, 5e-2, 1e-1])\n",
    "ax.set_xlabel('strain (%)',fontsize=24)\n",
    "ax.set_ylabel('$p_{l,m}$',fontsize=24)\n",
    "ax.tick_params(which='both', labelsize=20)\n",
    "\n",
    "pngname = 'diversity_zoom.png'\n",
    "plt.savefig(pngname, dpi=96, bbox_inches='tight')"
   ]
  },
  {
   "cell_type": "code",
   "execution_count": null,
   "metadata": {},
   "outputs": [],
   "source": []
  }
 ],
 "metadata": {
  "kernelspec": {
   "display_name": "Python 3",
   "language": "python",
   "name": "python3"
  },
  "language_info": {
   "codemirror_mode": {
    "name": "ipython",
    "version": 3
   },
   "file_extension": ".py",
   "mimetype": "text/x-python",
   "name": "python",
   "nbconvert_exporter": "python",
   "pygments_lexer": "ipython3",
   "version": "3.6.9"
  }
 },
 "nbformat": 4,
 "nbformat_minor": 4
}
