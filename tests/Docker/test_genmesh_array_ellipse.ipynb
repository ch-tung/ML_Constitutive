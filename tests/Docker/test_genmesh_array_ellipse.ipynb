{
 "cells": [
  {
   "cell_type": "code",
   "execution_count": 1,
   "metadata": {},
   "outputs": [],
   "source": [
    "from fenics import *\n",
    "from dolfin_adjoint import *\n",
    "import pygmsh_mesh_functions\n",
    "from pygmsh_mesh_functions import *\n",
    "import meshio\n",
    "import numpy as np\n",
    "import matplotlib.pyplot as plt"
   ]
  },
  {
   "cell_type": "code",
   "execution_count": 2,
   "metadata": {},
   "outputs": [],
   "source": [
    "def hole_ellipse(domain, c, l1, l2, theta, margin = 0.05):\n",
    "    co, so = np.cos(theta), np.sin(theta)\n",
    "    Rotation = np.array(((co, -so), (so, co)))\n",
    "    ell_c = add_ellipse(c, l1*(1-margin), l2*(1-margin), theta)\n",
    "    domain = subtract(domain, ell_c)"
   ]
  },
  {
   "cell_type": "code",
   "execution_count": 3,
   "metadata": {},
   "outputs": [],
   "source": [
    "def arrange_array(n_holes_x, n_holes_y, d_x, d_y,\n",
    "                  freq = 1, phase = 0, shift = np.array([0,0])):\n",
    "    \n",
    "    min_n_holes = np.min((n_holes_x,n_holes_y))\n",
    "\n",
    "#     xx = scale*(np.arange(n_holes_x)-n_holes_x/2+0.5)/size+0.5\n",
    "#     yy = scale*(np.arange(n_holes_y)-n_holes_y/2+0.5)/size+0.5\n",
    "    xx = (np.arange(n_holes_x)-n_holes_x/2+0.5)*d_x+0.5\n",
    "    yy = (np.arange(n_holes_y)-n_holes_y/2+0.5)*d_y+0.5\n",
    "    cx,cy = np.meshgrid(xx,yy)\n",
    "    \n",
    "    cx = cx.reshape(n_holes_x*n_holes_y)\n",
    "    cy = cy.reshape(n_holes_x*n_holes_y)\n",
    "    c = np.vstack((cx,cy)) # hole coordinate\n",
    "\n",
    "    s_xx = (-1)**np.arange(n_holes_x)\n",
    "    s_yy = (-1)**np.arange(n_holes_y)\n",
    "    sgn_x,sgn_y = np.meshgrid(s_xx,s_yy)\n",
    "    sgn = sgn_x*sgn_y\n",
    "    sgn = sgn.reshape(n_holes_x*n_holes_y)\n",
    "    theta = np.pi*(sgn/2)*freq + phase # hole orientation\n",
    "    theta = theta + (np.random.rand(len(theta))-0.5)*0 + pi\n",
    "    \n",
    "    return(c, theta)"
   ]
  },
  {
   "cell_type": "code",
   "execution_count": 8,
   "metadata": {},
   "outputs": [],
   "source": [
    "# arrange the tools\n",
    "size = 4\n",
    "c1, theta1 = arrange_array(5, 3, 1/size, 1/size, freq = 0.5, phase = np.pi/4)\n",
    "# c2, theta2 = arrange_array(2, 3, np.sqrt(3)/size, 1/size, freq = 0.5, phase = np.pi/4)"
   ]
  },
  {
   "cell_type": "code",
   "execution_count": 9,
   "metadata": {},
   "outputs": [
    {
     "data": {
      "text/plain": [
       "array([4.71238898, 3.14159265, 4.71238898, 3.14159265, 4.71238898,\n",
       "       3.14159265, 4.71238898, 3.14159265, 4.71238898, 3.14159265,\n",
       "       4.71238898, 3.14159265, 4.71238898, 3.14159265, 4.71238898])"
      ]
     },
     "execution_count": 9,
     "metadata": {},
     "output_type": "execute_result"
    }
   ],
   "source": [
    "theta1"
   ]
  },
  {
   "cell_type": "code",
   "execution_count": 10,
   "metadata": {},
   "outputs": [],
   "source": [
    "# s_xx = (-1)**np.arange(n_holes_x)\n",
    "# s_yy = (-1)**np.arange(n_holes_y)\n",
    "# sgn_x,sgn_y = np.meshgrid(s_xx,s_yy)\n",
    "# sgn = sgn_x*sgn_y\n",
    "# sgn = sgn.reshape(n_holes_x*n_holes_y)\n",
    "# theta = np.pi*(1-sgn)/4\n",
    "\n",
    "# xx_l = scale*(-1-n_holes_x/2+0.5)/min_n_holes+0.5\n",
    "# xx_r = scale*(len(xx)-n_holes_x/2+0.5)/min_n_holes+0.5\n",
    "# cx_l,cy_l = np.meshgrid(xx_l,yy)\n",
    "# cx_r,cy_r = np.meshgrid(xx_r,yy)\n",
    "# c_l = np.vstack((cx_l.T,cy_l.T))\n",
    "# c_r = np.vstack((cx_r.T,cy_r.T))\n",
    "\n",
    "# s_xx_l = (-1)**(-1)\n",
    "# s_xx_r = (-1)**(len(xx))\n",
    "# sgn_l = s_xx_l*s_yy\n",
    "# sgn_r = s_xx_r*s_yy"
   ]
  },
  {
   "cell_type": "code",
   "execution_count": 14,
   "metadata": {
    "scrolled": false
   },
   "outputs": [
    {
     "name": "stdout",
     "output_type": "stream",
     "text": [
      "Info    : Running '/home/fenics/.local/bin/gmsh -3 /tmp/tmpj5z3314j.geo -format msh -bin -o /tmp/tmp6i19m61j.msh' [Gmsh 4.9.5, 1 node, max. 1 thread]\n",
      "Info    : Started on Thu May 12 02:27:54 2022\n",
      "Info    : Reading '/tmp/tmpj5z3314j.geo'...\n",
      "Info    : Done reading '/tmp/tmpj5z3314j.geo'\n",
      "Info    : Meshing 1D...\n",
      "Info    : [  0%] Meshing curve 1 (Ellipse)\n",
      "Info    : [ 10%] Meshing curve 2 (Line)\n",
      "Info    : [ 10%] Meshing curve 3 (Ellipse)\n",
      "Info    : [ 20%] Meshing curve 4 (Line)\n",
      "Info    : [ 20%] Meshing curve 5 (Ellipse)\n",
      "Info    : [ 20%] Meshing curve 6 (Line)\n",
      "Info    : [ 30%] Meshing curve 7 (Line)\n",
      "Info    : [ 30%] Meshing curve 8 (Line)\n",
      "Info    : [ 40%] Meshing curve 9 (Ellipse)\n",
      "Info    : [ 40%] Meshing curve 10 (Line)\n",
      "Info    : [ 40%] Meshing curve 11 (Ellipse)\n",
      "Info    : [ 50%] Meshing curve 12 (Ellipse)\n",
      "Info    : [ 50%] Meshing curve 13 (Line)\n",
      "Info    : [ 50%] Meshing curve 14 (Ellipse)\n",
      "Info    : [ 60%] Meshing curve 15 (Line)\n",
      "Info    : [ 60%] Meshing curve 16 (Line)\n",
      "Info    : [ 70%] Meshing curve 17 (Line)\n",
      "Info    : [ 70%] Meshing curve 18 (Ellipse)\n",
      "Info    : [ 70%] Meshing curve 19 (Ellipse)\n",
      "Info    : [ 80%] Meshing curve 20 (Ellipse)\n",
      "Info    : [ 80%] Meshing curve 21 (Ellipse)\n",
      "Info    : [ 90%] Meshing curve 22 (Ellipse)\n",
      "Info    : [ 90%] Meshing curve 23 (Ellipse)\n",
      "Info    : [ 90%] Meshing curve 24 (Ellipse)\n",
      "Info    : [100%] Meshing curve 25 (Ellipse)\n",
      "Info    : [100%] Meshing curve 26 (Ellipse)\n",
      "Info    : Done meshing 1D (Wall 0.0872703s, CPU 0.08727s)\n",
      "Info    : Meshing 2D...\n",
      "Info    : Meshing surface 6 (Plane, Frontal-Delaunay)\n",
      "Info    : Done meshing 2D (Wall 0.116085s, CPU 0.116082s)\n",
      "Info    : Meshing 3D...\n",
      "Info    : Done meshing 3D (Wall 2.09e-05s, CPU 2.2e-05s)\n",
      "Info    : 3760 nodes 7562 elements\n",
      "Info    : Writing '/tmp/tmp6i19m61j.msh'...\n",
      "Info    : Done writing '/tmp/tmp6i19m61j.msh'\n",
      "Info    : Stopped on Thu May 12 02:27:54 2022 (From start: Wall 0.269133s, CPU 0.434696s)\n"
     ]
    },
    {
     "data": {
      "text/plain": [
       "3760"
      ]
     },
     "execution_count": 14,
     "metadata": {},
     "output_type": "execute_result"
    },
    {
     "data": {
      "image/png": "[encoded data removed]",
      "text/plain": [
       "<Figure size 432x288 with 1 Axes>"
      ]
     },
     "metadata": {
      "needs_background": "light"
     },
     "output_type": "display_data"
    }
   ],
   "source": [
    "reset_geometry()\n",
    "\n",
    "Lx = 1\n",
    "Ly = 1\n",
    "\n",
    "meshsize_min = 0.015\n",
    "meshsize_max = 0.015\n",
    "\n",
    "pygmsh_mesh_functions.hmeshmin = meshsize_min\n",
    "pygmsh_mesh_functions.hmeshmax = meshsize_max\n",
    "\n",
    "domain = add_polygon([(0, 0), (Lx, 0), (Lx, Ly), (0, Ly)])\n",
    "X0 = np.array([0, 0])\n",
    "\n",
    "#OPERATIONS ON DOMAIN\n",
    "for i in range(len(theta1)):\n",
    "    hole_ellipse(domain, c1[:,i], 1/8, 1/12, theta1[i], margin = 0)\n",
    "# for i in range(len(theta2)):\n",
    "#     hole_ellipse(domain, c2[:,i], 1/12, 1/8, theta2[i], margin = 0.2)\n",
    "\n",
    "\n",
    "#CREATE AND STORE MESH\n",
    "sample_name = \"test_array_ellipse.xdmf\"\n",
    "out_dir = pathlib.Path(\"output_files\")\n",
    "out_dir.mkdir(parents=True, exist_ok=True)\n",
    "mesh = create_fenics_mesh(mesh_path = out_dir / sample_name, verbose=True)\n",
    "cell_type = mesh.cell_name()\n",
    "with create_XDMFFile(out_dir / sample_name) as xf:\n",
    "    xf.write(mesh)\n",
    "    \n",
    "plot(mesh)\n",
    "len(mesh.coordinates())"
   ]
  },
  {
   "cell_type": "code",
   "execution_count": null,
   "metadata": {},
   "outputs": [],
   "source": []
  },
  {
   "cell_type": "code",
   "execution_count": null,
   "metadata": {},
   "outputs": [],
   "source": []
  }
 ],
 "metadata": {
  "kernelspec": {
   "display_name": "Python 3",
   "language": "python",
   "name": "python3"
  },
  "language_info": {
   "codemirror_mode": {
    "name": "ipython",
    "version": 3
   },
   "file_extension": ".py",
   "mimetype": "text/x-python",
   "name": "python",
   "nbconvert_exporter": "python",
   "pygments_lexer": "ipython3",
   "version": "3.6.9"
  }
 },
 "nbformat": 4,
 "nbformat_minor": 5
}
