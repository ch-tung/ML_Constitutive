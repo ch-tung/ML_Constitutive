{
 "cells": [
  {
   "cell_type": "markdown",
   "metadata": {},
   "source": [
    "<h1><center>Sample design - Stress/Strain anisotropy tester</center></h1>"
   ]
  },
  {
   "cell_type": "markdown",
   "metadata": {},
   "source": [
    "### Parameters for file to test"
   ]
  },
  {
   "cell_type": "markdown",
   "metadata": {},
   "source": [
    "This is the **only section** you must edit !\n",
    "\n",
    "For the constitutive model, you may choose between :\n",
    "- '1-tanhplastic'\n",
    "- '2-perfectplasticity'\n"
   ]
  },
  {
   "cell_type": "code",
   "execution_count": 1,
   "metadata": {
    "scrolled": false
   },
   "outputs": [
    {
     "data": {
      "text/plain": [
       "['2hole.xdmf',\n",
       " '2notch.xdmf',\n",
       " 'test_array_ellipse.xdmf',\n",
       " 'test_clover.xdmf',\n",
       " 'test_clover_rand.xdmf',\n",
       " 'test_loop_array_2fold.xdmf',\n",
       " 'test_loop_array_3fold.xdmf',\n",
       " 'test_NPR.xdmf',\n",
       " 'test_NPR_rounded.xdmf',\n",
       " 'test_NPR_rounded_45.xdmf',\n",
       " 'test_NPR_rounded_90.xdmf',\n",
       " 'test_NPR_rounded_rand.xdmf',\n",
       " 'test_NPR_rounded_swivel.xdmf',\n",
       " 'test_simplehole_discA1.xdmf',\n",
       " 'test_simplehole_ellipseA12.xdmf',\n",
       " 'test_simplehole_rectangleA12.xdmf',\n",
       " 'test_simplehole_squareA1.xdmf',\n",
       " 'test_simplehole_squareB1.xdmf',\n",
       " 'test_withouthole.xdmf']"
      ]
     },
     "execution_count": 1,
     "metadata": {},
     "output_type": "execute_result"
    }
   ],
   "source": [
    "# list available samples\n",
    "from os import listdir\n",
    "meshpath = './resultstester_GAP/'\n",
    "mesh_list = [x for x in listdir(meshpath) if x.endswith('.xdmf')]\n",
    "mesh_list"
   ]
  },
  {
   "cell_type": "code",
   "execution_count": 2,
   "metadata": {},
   "outputs": [],
   "source": [
    "#Test loading profile\n",
    "T_max = 40                                    #loading time length (s)\n",
    "e_max = 0.005                                   #max upper boundary strain (no unit)\n",
    "nb_steps = 15                                 #number of time steps during loading (default is 10)"
   ]
  },
  {
   "cell_type": "code",
   "execution_count": 3,
   "metadata": {},
   "outputs": [],
   "source": [
    "# Mechanical Properties for sample design evaluation\n",
    "# (default is given for steel https://www.matweb.com/search/datasheet.aspx?bassnum=MS0001&ckck=1 )\n",
    "\n",
    "E_float = 200*1e9                                     #Young modulus (Pa)        default 200*1e9\n",
    "nu_float = 0.25                                       #Poisson ratio (no unit)   default 0.25\n",
    "sigma_y0_float = 350*1e6                              #Yield stress (Pa)         default 350*1e6\n",
    "\n",
    "#MODEL PARAMETERS :\n",
    "    #1-tanhplastic\n",
    "sp=10\n",
    "amp=0.1\n",
    "    #2-perfectplasticity\n",
    "#no parameters to define\n",
    "    #3-"
   ]
  },
  {
   "cell_type": "code",
   "execution_count": 4,
   "metadata": {},
   "outputs": [],
   "source": [
    "# To change the number of discrete segments to calculate anisotropy score :\n",
    "# (default is 200)\n",
    "n_seg=200\n",
    "rel_thresh=1/3"
   ]
  },
  {
   "cell_type": "code",
   "execution_count": 5,
   "metadata": {},
   "outputs": [],
   "source": [
    "from fenics import *\n",
    "from dolfin_adjoint import *\n",
    "# import pygmsh_mesh_functions\n",
    "# from pygmsh_mesh_functions import *\n",
    "import meshio\n",
    "import numpy as np\n",
    "import matplotlib.pyplot as plt\n",
    "from tqdm import tqdm\n",
    "\n",
    "# For quality evaluation\n",
    "from anisotropyv3 import GapScore\n",
    "from anisotropy_density import *\n",
    "\n",
    "from scipy.io import loadmat"
   ]
  },
  {
   "cell_type": "code",
   "execution_count": 6,
   "metadata": {
    "scrolled": false
   },
   "outputs": [
    {
     "name": "stderr",
     "output_type": "stream",
     "text": [
      "100%|██████████| 16/16 [00:00<00:00, 7100.72it/s]\n"
     ]
    },
    {
     "name": "stdout",
     "output_type": "stream",
     "text": [
      "Score_strain_density = 0.1832726800171312\n",
      "Score_strain_radius = 1.5550856502372505\n",
      "Score_strain_harmonics = 0.34632320751164253\n",
      "Score_strain_gap = [1, 0.9122092281139531, 0.724361670367747, 0.061743626279384685]\n",
      "Score_stress_density = 0.1832726800171312\n",
      "Score_stress_radius = 1.5550856502372505\n",
      "Score_stress_harmonics = 0.34632320751164253\n",
      "Score_stress_gap = [1, 0.9122092281139531, 0.724361670367747, 0.061743626279384685]\n"
     ]
    },
    {
     "name": "stderr",
     "output_type": "stream",
     "text": [
      "100%|██████████| 16/16 [00:00<00:00, 5852.35it/s]\n",
      "/home/fenics/shared/tests/Aurelien/Gap_score/anisotropy_density.py:36: RuntimeWarning: invalid value encountered in true_divide\n",
      "  MEANRADS=RADICOUNT/PTSCOUNT\n"
     ]
    },
    {
     "name": "stdout",
     "output_type": "stream",
     "text": [
      "Score_strain_density = 0.5462915965309318\n",
      "Score_strain_radius = nan\n",
      "Score_strain_harmonics = 0.7444819458755166\n",
      "Score_strain_gap = [0.7593624496350241, 0.6719313691178662, 0.6408702276858433, 0.3212937785333434]\n",
      "Score_stress_density = 0.5462915965309318\n",
      "Score_stress_radius = nan\n",
      "Score_stress_harmonics = 0.7444819458755166\n",
      "Score_stress_gap = [0.7593624496350241, 0.6719313691178662, 0.6408702276858433, 0.3212937785333434]\n"
     ]
    },
    {
     "name": "stderr",
     "output_type": "stream",
     "text": [
      "100%|██████████| 16/16 [00:00<00:00, 2868.02it/s]\n"
     ]
    },
    {
     "name": "stdout",
     "output_type": "stream",
     "text": [
      "Score_strain_density = 0.14524922330560214\n",
      "Score_strain_radius = 1.806876747995253\n",
      "Score_strain_harmonics = 0.4027030546050778\n",
      "Score_strain_gap = [0.8628032577388793, 0.7718897273895832, 0.3589906642023321, 0.04618058126746731]\n",
      "Score_stress_density = 0.14524922330560214\n",
      "Score_stress_radius = 1.806876747995253\n",
      "Score_stress_harmonics = 0.4027030546050778\n",
      "Score_stress_gap = [0.8628032577388793, 0.7718897273895832, 0.3589906642023321, 0.04618058126746731]\n"
     ]
    },
    {
     "name": "stderr",
     "output_type": "stream",
     "text": [
      "100%|██████████| 16/16 [00:00<00:00, 3797.25it/s]\n"
     ]
    },
    {
     "name": "stdout",
     "output_type": "stream",
     "text": [
      "Score_strain_density = 0.08856712299926117\n",
      "Score_strain_radius = 1.274286262103572\n",
      "Score_strain_harmonics = 0.11604961421121232\n",
      "Score_strain_gap = [0.6476513482198025, 0.21576381428210015, 0.059688655456738515, 0.020347598894969936]\n",
      "Score_stress_density = 0.08856712299926117\n",
      "Score_stress_radius = 1.274286262103572\n",
      "Score_stress_harmonics = 0.11604961421121232\n",
      "Score_stress_gap = [0.6476513482198025, 0.21576381428210015, 0.059688655456738515, 0.020347598894969936]\n"
     ]
    },
    {
     "name": "stderr",
     "output_type": "stream",
     "text": [
      "100%|██████████| 16/16 [00:00<00:00, 3874.42it/s]\n"
     ]
    },
    {
     "name": "stdout",
     "output_type": "stream",
     "text": [
      "Score_strain_density = 0.0824331082031929\n",
      "Score_strain_radius = 1.1297427416449866\n",
      "Score_strain_harmonics = 0.0910427720866936\n",
      "Score_strain_gap = [0.5650631216372142, 0.173954689401478, 0.060102337349641606, 0.019478917023431918]\n",
      "Score_stress_density = 0.0824331082031929\n",
      "Score_stress_radius = 1.1297427416449866\n",
      "Score_stress_harmonics = 0.0910427720866936\n",
      "Score_stress_gap = [0.5650631216372142, 0.173954689401478, 0.060102337349641606, 0.019478917023431918]\n"
     ]
    },
    {
     "name": "stderr",
     "output_type": "stream",
     "text": [
      "100%|██████████| 16/16 [00:00<00:00, 2249.94it/s]\n"
     ]
    },
    {
     "name": "stdout",
     "output_type": "stream",
     "text": [
      "Score_strain_density = 0.1293337588936057\n",
      "Score_strain_radius = 1.2980888935507409\n",
      "Score_strain_harmonics = 0.34022136375983714\n",
      "Score_strain_gap = [0.8476950102308698, 0.7651983423845632, 0.5689750210793196, 0.028946008335405546]\n",
      "Score_stress_density = 0.1293337588936057\n",
      "Score_stress_radius = 1.2980888935507409\n",
      "Score_stress_harmonics = 0.34022136375983714\n",
      "Score_stress_gap = [0.8476950102308698, 0.7651983423845632, 0.5689750210793196, 0.028946008335405546]\n"
     ]
    },
    {
     "name": "stderr",
     "output_type": "stream",
     "text": [
      "100%|██████████| 16/16 [00:00<00:00, 1932.41it/s]\n"
     ]
    },
    {
     "name": "stdout",
     "output_type": "stream",
     "text": [
      "Score_strain_density = 0.10876587846454529\n",
      "Score_strain_radius = 1.4912936670679735\n",
      "Score_strain_harmonics = 0.19785263119925978\n",
      "Score_strain_gap = [0.9554759858299612, 0.8116207158616292, 0.38445802250555666, 0.018836573573470985]\n",
      "Score_stress_density = 0.10876587846454529\n",
      "Score_stress_radius = 1.4912936670679735\n",
      "Score_stress_harmonics = 0.19785263119925978\n",
      "Score_stress_gap = [0.9554759858299612, 0.8116207158616292, 0.38445802250555666, 0.018836573573470985]\n"
     ]
    },
    {
     "name": "stderr",
     "output_type": "stream",
     "text": [
      "100%|██████████| 16/16 [00:00<00:00, 3662.55it/s]\n"
     ]
    },
    {
     "name": "stdout",
     "output_type": "stream",
     "text": [
      "Score_strain_density = 0.07904081866262447\n",
      "Score_strain_radius = 1.4441156893782576\n",
      "Score_strain_harmonics = 0.0812494954673626\n",
      "Score_strain_gap = [0.815832602152701, 0.2669816068788039, 0.08187623746596363, 0.019994433004031135]\n",
      "Score_stress_density = 0.07904081866262447\n",
      "Score_stress_radius = 1.4441156893782576\n",
      "Score_stress_harmonics = 0.0812494954673626\n",
      "Score_stress_gap = [0.815832602152701, 0.2669816068788039, 0.08187623746596363, 0.019994433004031135]\n"
     ]
    },
    {
     "name": "stderr",
     "output_type": "stream",
     "text": [
      "100%|██████████| 16/16 [00:00<00:00, 3555.06it/s]\n"
     ]
    },
    {
     "name": "stdout",
     "output_type": "stream",
     "text": [
      "Score_strain_density = 0.07377997403877026\n",
      "Score_strain_radius = 1.6008992245516662\n",
      "Score_strain_harmonics = 0.07542598053355765\n",
      "Score_strain_gap = [0.6886223168891171, 0.5463051260805651, 0.30663020942820784, 0.018627373064005633]\n",
      "Score_stress_density = 0.07377997403877026\n",
      "Score_stress_radius = 1.6008992245516662\n",
      "Score_stress_harmonics = 0.07542598053355765\n",
      "Score_stress_gap = [0.6886223168891171, 0.5463051260805651, 0.30663020942820784, 0.018627373064005633]\n"
     ]
    },
    {
     "name": "stderr",
     "output_type": "stream",
     "text": [
      "100%|██████████| 16/16 [00:00<00:00, 3081.92it/s]\n"
     ]
    },
    {
     "name": "stdout",
     "output_type": "stream",
     "text": [
      "Score_strain_density = 0.057736264615369515\n",
      "Score_strain_radius = 1.1528560366035383\n",
      "Score_strain_harmonics = 0.06839123473579206\n",
      "Score_strain_gap = [0.6877671725641505, 0.18470487600157137, 0.05551082208578529, 0.01971599510800528]\n",
      "Score_stress_density = 0.057736264615369515\n",
      "Score_stress_radius = 1.1528560366035383\n",
      "Score_stress_harmonics = 0.06839123473579206\n",
      "Score_stress_gap = [0.6877671725641505, 0.18470487600157137, 0.05551082208578529, 0.01971599510800528]\n"
     ]
    },
    {
     "name": "stderr",
     "output_type": "stream",
     "text": [
      "100%|██████████| 16/16 [00:00<00:00, 3291.42it/s]\n"
     ]
    },
    {
     "name": "stdout",
     "output_type": "stream",
     "text": [
      "Score_strain_density = 0.08027465466308094\n",
      "Score_strain_radius = 1.8902917383077151\n",
      "Score_strain_harmonics = 0.09579122614524027\n",
      "Score_strain_gap = [0.6780550526329548, 0.5495758364304542, 0.38339994855718623, 0.01939256204194767]\n",
      "Score_stress_density = 0.08027465466308094\n",
      "Score_stress_radius = 1.8902917383077151\n",
      "Score_stress_harmonics = 0.09579122614524027\n",
      "Score_stress_gap = [0.6780550526329548, 0.5495758364304542, 0.38339994855718623, 0.01939256204194767]\n"
     ]
    },
    {
     "name": "stderr",
     "output_type": "stream",
     "text": [
      "100%|██████████| 16/16 [00:00<00:00, 2847.09it/s]\n"
     ]
    },
    {
     "name": "stdout",
     "output_type": "stream",
     "text": [
      "Score_strain_density = 0.08198512212510244\n",
      "Score_strain_radius = 1.4207967045176855\n",
      "Score_strain_harmonics = 0.10348817925478593\n",
      "Score_strain_gap = [0.8626246385046271, 0.6688828148828635, 0.22653500789782452, 0.01918002426754771]\n",
      "Score_stress_density = 0.08198512212510244\n",
      "Score_stress_radius = 1.4207967045176855\n",
      "Score_stress_harmonics = 0.10348817925478593\n",
      "Score_stress_gap = [0.8626246385046271, 0.6688828148828635, 0.22653500789782452, 0.01918002426754771]\n"
     ]
    },
    {
     "name": "stderr",
     "output_type": "stream",
     "text": [
      "100%|██████████| 16/16 [00:00<00:00, 3088.87it/s]\n"
     ]
    },
    {
     "name": "stdout",
     "output_type": "stream",
     "text": [
      "Score_strain_density = 0.07039954140676907\n",
      "Score_strain_radius = 1.633858411392691\n",
      "Score_strain_harmonics = 0.08556056260071139\n",
      "Score_strain_gap = [0.7516189489762467, 0.5672576249626686, 0.3020586430741713, 0.018091702664448487]\n",
      "Score_stress_density = 0.07039954140676907\n",
      "Score_stress_radius = 1.633858411392691\n",
      "Score_stress_harmonics = 0.08556056260071139\n",
      "Score_stress_gap = [0.7516189489762467, 0.5672576249626686, 0.3020586430741713, 0.018091702664448487]\n"
     ]
    },
    {
     "name": "stderr",
     "output_type": "stream",
     "text": [
      "100%|██████████| 16/16 [00:00<00:00, 8317.91it/s]\n"
     ]
    },
    {
     "name": "stdout",
     "output_type": "stream",
     "text": [
      "Score_strain_density = 0.25844805458002945\n",
      "Score_strain_radius = 1.8269144884910071\n",
      "Score_strain_harmonics = 0.500140385757707\n",
      "Score_strain_gap = [0.8641636651378469, 0.7401377058315629, 0.6363329532029003, 0.09636864657194771]\n",
      "Score_stress_density = 0.25844805458002945\n",
      "Score_stress_radius = 1.8269144884910071\n",
      "Score_stress_harmonics = 0.500140385757707\n",
      "Score_stress_gap = [0.8641636651378469, 0.7401377058315629, 0.6363329532029003, 0.09636864657194771]\n"
     ]
    },
    {
     "name": "stderr",
     "output_type": "stream",
     "text": [
      "100%|██████████| 16/16 [00:00<00:00, 8256.50it/s]\n"
     ]
    },
    {
     "name": "stdout",
     "output_type": "stream",
     "text": [
      "Score_strain_density = 0.22224437205821798\n",
      "Score_strain_radius = 1.9091337748901596\n",
      "Score_strain_harmonics = 0.5137805143337532\n",
      "Score_strain_gap = [0.8878839131170437, 0.750751045759712, 0.6108259047999873, 0.4889760690429671]\n",
      "Score_stress_density = 0.22224437205821798\n",
      "Score_stress_radius = 1.9091337748901596\n",
      "Score_stress_harmonics = 0.5137805143337532\n",
      "Score_stress_gap = [0.8878839131170437, 0.750751045759712, 0.6108259047999873, 0.4889760690429671]\n"
     ]
    },
    {
     "name": "stderr",
     "output_type": "stream",
     "text": [
      "100%|██████████| 16/16 [00:00<00:00, 3193.23it/s]\n"
     ]
    },
    {
     "name": "stdout",
     "output_type": "stream",
     "text": [
      "Score_strain_density = 0.2953612035656661\n",
      "Score_strain_radius = 1.5705028001257195\n",
      "Score_strain_harmonics = 0.430190539098012\n",
      "Score_strain_gap = [0.9203596912953209, 0.7607264916556593, 0.5391314044359911, 0.05338549891277384]\n",
      "Score_stress_density = 0.2953612035656661\n",
      "Score_stress_radius = 1.5705028001257195\n",
      "Score_stress_harmonics = 0.430190539098012\n",
      "Score_stress_gap = [0.9203596912953209, 0.7607264916556593, 0.5391314044359911, 0.05338549891277384]\n"
     ]
    },
    {
     "name": "stderr",
     "output_type": "stream",
     "text": [
      "100%|██████████| 16/16 [00:00<00:00, 3545.86it/s]\n"
     ]
    },
    {
     "name": "stdout",
     "output_type": "stream",
     "text": [
      "Score_strain_density = 0.386100623164372\n",
      "Score_strain_radius = 1.4079337127945797\n",
      "Score_strain_harmonics = 0.4336530142235238\n",
      "Score_strain_gap = [0.8895493366502577, 0.7698005764337322, 0.5091642196133294, 0.0572099972486832]\n",
      "Score_stress_density = 0.386100623164372\n",
      "Score_stress_radius = 1.4079337127945797\n",
      "Score_stress_harmonics = 0.4336530142235238\n",
      "Score_stress_gap = [0.8895493366502577, 0.7698005764337322, 0.5091642196133294, 0.0572099972486832]\n"
     ]
    },
    {
     "name": "stderr",
     "output_type": "stream",
     "text": [
      "100%|██████████| 16/16 [00:00<00:00, 3679.62it/s]\n"
     ]
    },
    {
     "name": "stdout",
     "output_type": "stream",
     "text": [
      "Score_strain_density = 0.3868020025772416\n",
      "Score_strain_radius = 1.4303110628649909\n",
      "Score_strain_harmonics = 0.43206738794682054\n",
      "Score_strain_gap = [0.8124777894855152, 0.7493626864996012, 0.384279404674946, 0.05294559675730937]\n",
      "Score_stress_density = 0.3868020025772416\n",
      "Score_stress_radius = 1.4303110628649909\n",
      "Score_stress_harmonics = 0.43206738794682054\n",
      "Score_stress_gap = [0.8124777894855152, 0.7493626864996012, 0.384279404674946, 0.05294559675730937]\n"
     ]
    },
    {
     "name": "stderr",
     "output_type": "stream",
     "text": [
      "100%|██████████| 16/16 [00:00<00:00, 9822.73it/s]\n"
     ]
    },
    {
     "name": "stdout",
     "output_type": "stream",
     "text": [
      "Score_strain_density = 0.6190359965072721\n",
      "Score_strain_radius = nan\n",
      "Score_strain_harmonics = 0.7635649818830141\n",
      "Score_strain_gap = [1, 1, 1, 1]\n",
      "Score_stress_density = 0.6190359965072721\n",
      "Score_stress_radius = nan\n",
      "Score_stress_harmonics = 0.7635649818830141\n",
      "Score_stress_gap = [1, 1, 1, 1]\n"
     ]
    }
   ],
   "source": [
    "for i in range(len(mesh_list)):\n",
    "    #### Meshfile ####\n",
    "    meshfile = mesh_list[i]                    # with .xdmf\n",
    "    meshpath = './output_files/'\n",
    "    \n",
    "    #### Evaluate strain diversity ####\n",
    "    # load data\n",
    "    filename = './resultstester_GAP/'+meshfile+'/'+'data.mat'\n",
    "    epsilon = loadmat(filename)['epsilon']\n",
    "    sigma = loadmat(filename)['sigma']\n",
    "\n",
    "    #### Calculate anisotropic score #### \n",
    "    n_element = sigma.shape[0]\n",
    "    n_frame = epsilon.shape[3]\n",
    "    strain = np.arange(n_frame)/(n_frame-1)*e_max\n",
    "    i_frame = round(0.001/e_max*(n_frame-1))\n",
    "\n",
    "    epsilon_normal = np.zeros((n_element,n_frame))\n",
    "    epsilon_shear = np.zeros((n_element,n_frame))\n",
    "    sigma_normal = np.zeros((n_element,n_frame))\n",
    "    sigma_shear = np.zeros((n_element,n_frame))\n",
    "    \n",
    "    for it in tqdm(range(n_frame)):\n",
    "        epsilon_t = epsilon[:,:,:,it].reshape(n_element,4)\n",
    "        epsilon_normal[:,it] = (epsilon_t[:,0] - epsilon_t[:,3])/2\n",
    "        epsilon_shear[:,it] = epsilon_t[:,2]\n",
    "        \n",
    "        sigma_t = sigma[:,:,:,it].reshape(n_element,4)\n",
    "        sigma_normal[:,it] = (sigma_t[:,0] - sigma_t[:,3])/2\n",
    "        sigma_shear[:,it] = sigma_t[:,2]\n",
    "\n",
    "    epsilon_radius2 = (epsilon_normal**2 + epsilon_shear**2).reshape(n_frame*n_element).tolist()\n",
    "    epsilon_all = np.vstack((epsilon_normal.reshape(n_frame*n_element),epsilon_shear.reshape(n_frame*n_element))).T.tolist()\n",
    "    epsilon_i = np.vstack((epsilon_normal[:,i_frame],epsilon_shear[:,i_frame])).T.tolist()\n",
    "\n",
    "    Score_strain_density = anisotropy_score_density(epsilon_all,n_segments=60)\n",
    "    Score_strain_radius = anisotropy_score_radius(epsilon_all,n_segments=60)\n",
    "    Score_strain_harmonics = anisotropy_score_harmonics(epsilon_all,n_segments=60)\n",
    "    Score_strain_gap = [GapScore(epsilon_i,threshold=0.75),\n",
    "                        GapScore(epsilon_i,threshold=0.50),\n",
    "                        GapScore(epsilon_i,threshold=0.25),\n",
    "                        GapScore(epsilon_i,threshold=0.00)]\n",
    "    print('Score_strain_density = {}'.format(Score_strain_density))\n",
    "    print('Score_strain_radius = {}'.format(Score_strain_radius))\n",
    "    print('Score_strain_harmonics = {}'.format(Score_strain_harmonics))\n",
    "    print('Score_strain_gap = {}'.format(Score_strain_gap))\n",
    "    \n",
    "    sigma_radius2 = (sigma_normal**2 + sigma_shear**2).reshape(n_frame*n_element).tolist()\n",
    "    sigma_all = np.vstack((sigma_normal.reshape(n_frame*n_element),sigma_shear.reshape(n_frame*n_element))).T.tolist()\n",
    "    sigma_i = np.vstack((sigma_normal[:,i_frame],sigma_shear[:,i_frame])).T.tolist()\n",
    "\n",
    "    Score_stress_density = anisotropy_score_density(epsilon_all,n_segments=60)\n",
    "    Score_stress_radius = anisotropy_score_radius(epsilon_all,n_segments=60)\n",
    "    Score_stress_harmonics = anisotropy_score_harmonics(epsilon_all,n_segments=60)\n",
    "    Score_stress_gap = [GapScore(epsilon_i,threshold=0.75),\n",
    "                        GapScore(epsilon_i,threshold=0.50),\n",
    "                        GapScore(epsilon_i,threshold=0.25),\n",
    "                        GapScore(epsilon_i,threshold=0.00)]\n",
    "    print('Score_stress_density = {}'.format(Score_stress_density))\n",
    "    print('Score_stress_radius = {}'.format(Score_stress_radius))\n",
    "    print('Score_stress_harmonics = {}'.format(Score_stress_harmonics))\n",
    "    print('Score_stress_gap = {}'.format(Score_stress_gap))\n",
    "    \n",
    "    #### Save results #### \n",
    "    Score_density = np.array([Score_strain_density,Score_stress_density])\n",
    "    Score_radius = np.array([Score_strain_radius,Score_stress_radius])\n",
    "    Score_h = np.array([Score_strain_harmonics,Score_stress_harmonics])\n",
    "    Score_gap = np.array([Score_strain_gap,Score_stress_gap])\n",
    "\n",
    "    from scipy.io import savemat\n",
    "    mdic = {'Score_density':Score_density,'Score_radius':Score_radius,'Score_h':Score_h, 'Score_gap':Score_gap}\n",
    "    savemat('./resultstester_GAP/'+meshfile+'/'+'score.mat', mdic)"
   ]
  },
  {
   "cell_type": "code",
   "execution_count": null,
   "metadata": {},
   "outputs": [],
   "source": []
  }
 ],
 "metadata": {
  "kernelspec": {
   "display_name": "Python 3",
   "language": "python",
   "name": "python3"
  },
  "language_info": {
   "codemirror_mode": {
    "name": "ipython",
    "version": 3
   },
   "file_extension": ".py",
   "mimetype": "text/x-python",
   "name": "python",
   "nbconvert_exporter": "python",
   "pygments_lexer": "ipython3",
   "version": "3.6.9"
  },
  "toc": {
   "base_numbering": 1,
   "nav_menu": {},
   "number_sections": true,
   "sideBar": true,
   "skip_h1_title": false,
   "title_cell": "Table of Contents",
   "title_sidebar": "Contents",
   "toc_cell": false,
   "toc_position": {},
   "toc_section_display": true,
   "toc_window_display": false
  },
  "varInspector": {
   "cols": {
    "lenName": 16,
    "lenType": 16,
    "lenVar": 40
   },
   "kernels_config": {
    "python": {
     "delete_cmd_postfix": "",
     "delete_cmd_prefix": "del ",
     "library": "var_list.py",
     "varRefreshCmd": "print(var_dic_list())"
    },
    "r": {
     "delete_cmd_postfix": ") ",
     "delete_cmd_prefix": "rm(",
     "library": "var_list.r",
     "varRefreshCmd": "cat(var_dic_list()) "
    }
   },
   "types_to_exclude": [
    "module",
    "function",
    "builtin_function_or_method",
    "instance",
    "_Feature"
   ],
   "window_display": false
  }
 },
 "nbformat": 4,
 "nbformat_minor": 5
}
