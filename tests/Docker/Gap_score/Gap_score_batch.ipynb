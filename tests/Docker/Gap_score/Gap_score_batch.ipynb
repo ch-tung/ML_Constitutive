{
 "cells": [
  {
   "cell_type": "markdown",
   "metadata": {},
   "source": [
    "<h1><center>Sample design - Stress/Strain anisotropy tester</center></h1>"
   ]
  },
  {
   "cell_type": "code",
   "execution_count": 1,
   "metadata": {
    "scrolled": false
   },
   "outputs": [
    {
     "data": {
      "text/plain": [
       "['2hole.xdmf',\n",
       " '2notch.xdmf',\n",
       " 'test_array_ellipse.xdmf',\n",
       " 'test_clover.xdmf',\n",
       " 'test_clover_rand.xdmf',\n",
       " 'test_loop_array_2fold.xdmf',\n",
       " 'test_loop_array_3fold.xdmf',\n",
       " 'test_NPR.xdmf',\n",
       " 'test_NPR_rounded.xdmf',\n",
       " 'test_NPR_rounded_45.xdmf',\n",
       " 'test_NPR_rounded_90.xdmf',\n",
       " 'test_NPR_rounded_h.xdmf',\n",
       " 'test_NPR_rounded_rand.xdmf',\n",
       " 'test_NPR_rounded_swivel.xdmf',\n",
       " 'test_NPR_rounded_v.xdmf',\n",
       " 'test_simplehole_discA1.xdmf',\n",
       " 'test_simplehole_ellipseA12.xdmf',\n",
       " 'test_simplehole_rectangleA12.xdmf',\n",
       " 'test_simplehole_squareA1.xdmf',\n",
       " 'test_simplehole_squareB1.xdmf',\n",
       " 'test_withouthole.xdmf']"
      ]
     },
     "execution_count": 1,
     "metadata": {},
     "output_type": "execute_result"
    }
   ],
   "source": [
    "# list available samples\n",
    "from os import listdir\n",
    "meshpath = './resultstester_GAP/'\n",
    "mesh_list = [x for x in listdir(meshpath) if x.endswith('.xdmf')]\n",
    "mesh_list"
   ]
  },
  {
   "cell_type": "code",
   "execution_count": 2,
   "metadata": {},
   "outputs": [],
   "source": [
    "#Test loading profile\n",
    "T_max = 40                                    #loading time length (s)\n",
    "e_max = 0.005                                   #max upper boundary strain (no unit)\n",
    "nb_steps = 15                                 #number of time steps during loading (default is 10)"
   ]
  },
  {
   "cell_type": "code",
   "execution_count": 3,
   "metadata": {},
   "outputs": [],
   "source": [
    "# Mechanical Properties for sample design evaluation\n",
    "# (default is given for steel https://www.matweb.com/search/datasheet.aspx?bassnum=MS0001&ckck=1 )\n",
    "\n",
    "E_float = 200*1e9                                     #Young modulus (Pa)        default 200*1e9\n",
    "nu_float = 0.25                                       #Poisson ratio (no unit)   default 0.25\n",
    "sigma_y0_float = 350*1e6                              #Yield stress (Pa)         default 350*1e6\n",
    "\n",
    "#MODEL PARAMETERS :\n",
    "    #1-tanhplastic\n",
    "sp=10\n",
    "amp=0.1\n",
    "    #2-perfectplasticity\n",
    "#no parameters to define\n",
    "    #3-"
   ]
  },
  {
   "cell_type": "code",
   "execution_count": 4,
   "metadata": {},
   "outputs": [],
   "source": [
    "# To change the number of discrete segments to calculate anisotropy score :\n",
    "# (default is 200)\n",
    "n_seg=200\n",
    "rel_thresh=1/3"
   ]
  },
  {
   "cell_type": "code",
   "execution_count": 5,
   "metadata": {},
   "outputs": [],
   "source": [
    "from fenics import *\n",
    "from dolfin_adjoint import *\n",
    "# import pygmsh_mesh_functions\n",
    "# from pygmsh_mesh_functions import *\n",
    "import meshio\n",
    "import numpy as np\n",
    "import matplotlib.pyplot as plt\n",
    "from tqdm import tqdm\n",
    "\n",
    "# For quality evaluation\n",
    "from anisotropyv3 import *\n",
    "from anisotropy_density import *\n",
    "\n",
    "from scipy.io import loadmat"
   ]
  },
  {
   "cell_type": "code",
   "execution_count": 6,
   "metadata": {},
   "outputs": [],
   "source": [
    "def UniformityScore(Stress_points,threshold=0.85,tol=1e-14):\n",
    "    A=SortCut2(Stress_points,threshold=threshold)\n",
    "    THETAS=np.sort(np.arctan2(A[:,1],A[:,0]))\n",
    "    GAPS=np.roll(THETAS,-1,axis=0)%(2*np.pi)\n",
    "    THETAS_valid = np.sort(THETAS.copy()[GAPS>tol]%(2*np.pi))\n",
    "    # counts within each interval\n",
    "    interval_id = np.round(THETAS_valid/(2*np.pi/len(THETAS_valid))).astype('int')\n",
    "    bincount = np.bincount(interval_id)\n",
    "    if (len(THETAS_valid)-len(np.bincount(interval_id)))>0:\n",
    "        zerobins = np.zeros(len(THETAS_valid)-len(np.bincount(interval_id))) # append zeros\n",
    "        bincount = np.hstack((bincount,zerobins))\n",
    "#     return np.std(bincount)\n",
    "    if len(bincount)<=2:\n",
    "        return 1.0\n",
    "    else:\n",
    "        return np.sum(np.abs(bincount-1))/2/(len(bincount)-1)"
   ]
  },
  {
   "cell_type": "code",
   "execution_count": 7,
   "metadata": {
    "scrolled": false
   },
   "outputs": [
    {
     "name": "stderr",
     "output_type": "stream",
     "text": [
      "100%|██████████| 16/16 [00:00<00:00, 7642.51it/s]\n"
     ]
    },
    {
     "name": "stdout",
     "output_type": "stream",
     "text": [
      "Score_strain_density = 0.1832726800171312\n",
      "Score_strain_radius = 1.5550856502372505\n",
      "Score_strain_harmonics = 0.34632320751164253\n",
      "Score_strain_gap = [1, 1, 1, 0.9122092281139531, 0.724361670367747, 0.3893036170243233, 0.061743626279384685]\n",
      "Score_strain_uniformity = [1.0, 1.0, 1.0, 0.8571428571428571, 0.8108108108108109, 0.6708860759493671, 0.5831435079726651]\n",
      "Score_stress_density = 0.18489617308586354\n",
      "Score_stress_radius = 1.6592396941849754\n",
      "Score_stress_harmonics = 0.35235798772133753\n",
      "Score_stress_gap = [1, 0.7246134111221262, 0.7247634712114222, 0.6391389931519372, 0.469329527795516, 0.07063265224548841, 0.06121532469972011]\n",
      "Score_stress_uniformity = [1.0, 0.8181818181818182, 0.7777777777777778, 0.7218543046357616, 0.6957831325301205, 0.5908304498269896, 0.5755504935459378]\n"
     ]
    },
    {
     "name": "stderr",
     "output_type": "stream",
     "text": [
      "100%|██████████| 16/16 [00:00<00:00, 3466.55it/s]\n",
      "/home/fenics/shared/tests/Aurelien/Gap_score/anisotropy_density.py:36: RuntimeWarning: invalid value encountered in true_divide\n",
      "  MEANRADS=RADICOUNT/PTSCOUNT\n"
     ]
    },
    {
     "name": "stdout",
     "output_type": "stream",
     "text": [
      "Score_strain_density = 0.5462915965309318\n",
      "Score_strain_radius = nan\n",
      "Score_strain_harmonics = 0.7444819458755166\n",
      "Score_strain_gap = [1, 0.892005410842374, 0.7593624496350241, 0.6719313691178662, 0.6408702276858433, 0.43844295820914936, 0.3212937785333434]\n",
      "Score_strain_uniformity = [1.0, 1.0, 0.75, 0.625, 0.9229323308270677, 0.9138490041685966, 0.9135859519408502]\n",
      "Score_stress_density = 0.5474664937657948\n",
      "Score_stress_radius = nan\n",
      "Score_stress_harmonics = 0.7484190202263579\n",
      "Score_stress_gap = [1, 1, 0.717302393667348, 0.6413407066321191, 0.6462256517220772, 0.3386094894387344, 0.3212560140642891]\n",
      "Score_stress_uniformity = [1.0, 1.0, 0.6, 0.7592592592592593, 0.9206349206349206, 0.9144310823311749, 0.9131238447319778]\n"
     ]
    },
    {
     "name": "stderr",
     "output_type": "stream",
     "text": [
      "100%|██████████| 16/16 [00:00<00:00, 3498.53it/s]\n"
     ]
    },
    {
     "name": "stdout",
     "output_type": "stream",
     "text": [
      "Score_strain_density = 0.14524922330560214\n",
      "Score_strain_radius = 1.806876747995253\n",
      "Score_strain_harmonics = 0.4027030546050778\n",
      "Score_strain_gap = [1, 0.9402885774630679, 0.8628032577388793, 0.7718897273895832, 0.3589906642023321, 0.0736085336784149, 0.04618058126746731]\n",
      "Score_strain_uniformity = [1.0, 1.0, 0.75, 0.76, 0.6363636363636364, 0.6456483126110124, 0.590316573556797]\n",
      "Score_stress_density = 0.1459536075955523\n",
      "Score_stress_radius = 1.213098451928503\n",
      "Score_stress_harmonics = 0.4084366724127261\n",
      "Score_stress_gap = [1, 0.6310052364139954, 0.33421323114388657, 0.2419331227531481, 0.11304544465382824, 0.053191608257960356, 0.045370541449635454]\n",
      "Score_stress_uniformity = [1.0, 0.6666666666666666, 0.6181818181818182, 0.6386292834890965, 0.6384794414274632, 0.6123254401942927, 0.5892524607608407]\n"
     ]
    },
    {
     "name": "stderr",
     "output_type": "stream",
     "text": [
      "100%|██████████| 16/16 [00:00<00:00, 4189.33it/s]\n"
     ]
    },
    {
     "name": "stdout",
     "output_type": "stream",
     "text": [
      "Score_strain_density = 0.08856712299926117\n",
      "Score_strain_radius = 1.274286262103572\n",
      "Score_strain_harmonics = 0.11604961421121232\n",
      "Score_strain_gap = [1, 0.8498816272789608, 0.6476513482198025, 0.21576381428210015, 0.059688655456738515, 0.02562786808946594, 0.020347598894969936]\n",
      "Score_strain_uniformity = [1.0, 0.75, 0.7307692307692307, 0.5806451612903226, 0.38825757575757575, 0.4456089627755692, 0.44649712092130517]\n",
      "Score_stress_density = 0.08855017965170188\n",
      "Score_stress_radius = 1.2399996278444834\n",
      "Score_stress_harmonics = 0.11642088716280961\n",
      "Score_stress_gap = [1, 0.8498816272789607, 0.6476513482198024, 0.2157638142821004, 0.05968865545673828, 0.025627868089465752, 0.02034759889496988]\n",
      "Score_stress_uniformity = [1.0, 0.75, 0.7307692307692307, 0.5806451612903226, 0.38825757575757575, 0.4456089627755692, 0.44649712092130517]\n"
     ]
    },
    {
     "name": "stderr",
     "output_type": "stream",
     "text": [
      "100%|██████████| 16/16 [00:00<00:00, 3614.81it/s]\n"
     ]
    },
    {
     "name": "stdout",
     "output_type": "stream",
     "text": [
      "Score_strain_density = 0.0824331082031929\n",
      "Score_strain_radius = 1.1297427416449866\n",
      "Score_strain_harmonics = 0.0910427720866936\n",
      "Score_strain_gap = [1, 0.8703090643935325, 0.5650631216372142, 0.173954689401478, 0.060102337349641606, 0.023876618742698218, 0.019478917023431918]\n",
      "Score_strain_uniformity = [1.0, 1.0, 0.6666666666666666, 0.4583333333333333, 0.40097799511002447, 0.41705882352941176, 0.423810645313236]\n",
      "Score_stress_density = 0.08258184629096348\n",
      "Score_stress_radius = 0.9860220538266967\n",
      "Score_stress_harmonics = 0.09114967447801509\n",
      "Score_stress_gap = [1, 0.8703090643935325, 0.5650631216372142, 0.17395468940147762, 0.060102337349641585, 0.023876618742698516, 0.0194789170234318]\n",
      "Score_stress_uniformity = [1.0, 1.0, 0.6666666666666666, 0.4583333333333333, 0.40097799511002447, 0.41705882352941176, 0.423810645313236]\n"
     ]
    },
    {
     "name": "stderr",
     "output_type": "stream",
     "text": [
      "100%|██████████| 16/16 [00:00<00:00, 2370.33it/s]\n"
     ]
    },
    {
     "name": "stdout",
     "output_type": "stream",
     "text": [
      "Score_strain_density = 0.1293337588936057\n",
      "Score_strain_radius = 1.2980888935507409\n",
      "Score_strain_harmonics = 0.34022136375983714\n",
      "Score_strain_gap = [1, 1, 0.8476950102308698, 0.7651983423845632, 0.5689750210793196, 0.05083575216955555, 0.028946008335405546]\n",
      "Score_strain_uniformity = [1.0, 1.0, 0.8, 0.7916666666666666, 0.6764705882352942, 0.6142888450580758, 0.5639279125869164]\n",
      "Score_stress_density = 0.1298025979735433\n",
      "Score_stress_radius = 0.754097313762698\n",
      "Score_stress_harmonics = 0.3430698496841752\n",
      "Score_stress_gap = [1, 0.5546571476526505, 0.19017136264526566, 0.12037786876868342, 0.059384502091655904, 0.03437440250554377, 0.029001238278037324]\n",
      "Score_stress_uniformity = [1.0, 0.6, 0.5796178343949044, 0.6316472114137484, 0.6159879336349925, 0.5834510912231119, 0.5642117212998439]\n"
     ]
    },
    {
     "name": "stderr",
     "output_type": "stream",
     "text": [
      "100%|██████████| 16/16 [00:00<00:00, 1773.72it/s]\n"
     ]
    },
    {
     "name": "stdout",
     "output_type": "stream",
     "text": [
      "Score_strain_density = 0.10876587846454529\n",
      "Score_strain_radius = 1.4912936670679735\n",
      "Score_strain_harmonics = 0.19785263119925978\n",
      "Score_strain_gap = [1, 0.9993842544192469, 0.9554759858299612, 0.8116207158616292, 0.38445802250555666, 0.028965264534416037, 0.018836573573470985]\n",
      "Score_strain_uniformity = [1.0, 1.0, 1.0, 0.8095238095238095, 0.6643835616438356, 0.5219226260257913, 0.48795343800757984]\n",
      "Score_stress_density = 0.10849457085066534\n",
      "Score_stress_radius = 0.9532198996326295\n",
      "Score_stress_harmonics = 0.1977457493610502\n",
      "Score_stress_gap = [1, 0.7003141060004253, 0.3888754946079631, 0.1956236370395569, 0.0631783128588528, 0.021340967980304784, 0.0187243689051584]\n",
      "Score_stress_uniformity = [1.0, 0.6956521739130435, 0.7096774193548387, 0.6147704590818364, 0.5528973950026581, 0.5041126225877887, 0.4899837574445046]\n"
     ]
    },
    {
     "name": "stderr",
     "output_type": "stream",
     "text": [
      "100%|██████████| 16/16 [00:00<00:00, 3509.33it/s]\n"
     ]
    },
    {
     "name": "stdout",
     "output_type": "stream",
     "text": [
      "Score_strain_density = 0.07904081866262447\n",
      "Score_strain_radius = 1.4441156893782576\n",
      "Score_strain_harmonics = 0.0812494954673626\n",
      "Score_strain_gap = [1, 0.9983903621034691, 0.815832602152701, 0.2669816068788039, 0.08187623746596363, 0.024012267999836898, 0.019994433004031135]\n",
      "Score_strain_uniformity = [1.0, 0.5, 0.8992248062015504, 0.7601351351351351, 0.5868824531516184, 0.4653855335402244, 0.4534563189143342]\n",
      "Score_stress_density = 0.08011231502792032\n",
      "Score_stress_radius = 1.4272330934700375\n",
      "Score_stress_harmonics = 0.08366924078275452\n",
      "Score_stress_gap = [1, 0.9983903621034691, 0.8158326021527008, 0.266981606878804, 0.08187623746596363, 0.024012267999837335, 0.019994433004031153]\n",
      "Score_stress_uniformity = [1.0, 0.5, 0.8992248062015504, 0.7601351351351351, 0.5868824531516184, 0.4653855335402244, 0.4534563189143342]\n"
     ]
    },
    {
     "name": "stderr",
     "output_type": "stream",
     "text": [
      "100%|██████████| 16/16 [00:00<00:00, 3780.57it/s]\n"
     ]
    },
    {
     "name": "stdout",
     "output_type": "stream",
     "text": [
      "Score_strain_density = 0.07377997403877026\n",
      "Score_strain_radius = 1.6008992245516662\n",
      "Score_strain_harmonics = 0.07542598053355765\n",
      "Score_strain_gap = [1, 0.785594732059596, 0.6886223168891171, 0.5463051260805651, 0.30663020942820784, 0.025376223907723493, 0.018627373064005633]\n",
      "Score_strain_uniformity = [1.0, 0.5, 0.6842105263157895, 0.6811594202898551, 0.6073131955484896, 0.4683734939759036, 0.4327832561883679]\n",
      "Score_stress_density = 0.07434335089835088\n",
      "Score_stress_radius = 1.6650339410679538\n",
      "Score_stress_harmonics = 0.0761949943366785\n",
      "Score_stress_gap = [1, 0.7485672847395717, 0.5486867341401056, 0.4165317215792445, 0.0819472733297904, 0.023916982606849196, 0.018598413079543484]\n",
      "Score_stress_uniformity = [1.0, 0.75, 0.7619047619047619, 0.6642857142857143, 0.5363288718929254, 0.45653272681324236, 0.43298450392433085]\n"
     ]
    },
    {
     "name": "stderr",
     "output_type": "stream",
     "text": [
      "100%|██████████| 16/16 [00:00<00:00, 3323.54it/s]\n"
     ]
    },
    {
     "name": "stdout",
     "output_type": "stream",
     "text": [
      "Score_strain_density = 0.057736264615369515\n",
      "Score_strain_radius = 1.1528560366035383\n",
      "Score_strain_harmonics = 0.06839123473579206\n",
      "Score_strain_gap = [1, 0.7789423065097708, 0.6877671725641505, 0.18470487600157137, 0.05551082208578529, 0.021781018624282042, 0.01971599510800528]\n",
      "Score_strain_uniformity = [1.0, 0.5, 0.7837837837837838, 0.6049382716049383, 0.4528301886792453, 0.4264705882352941, 0.42044801838024126]\n",
      "Score_stress_density = 0.057646559332197714\n",
      "Score_stress_radius = 1.1758347824072148\n",
      "Score_stress_harmonics = 0.06822831829879107\n",
      "Score_stress_gap = [1, 0.7789423065097707, 0.6877671725641508, 0.18470487600157082, 0.05551082208578515, 0.021781018624282212, 0.01971599510800527]\n",
      "Score_stress_uniformity = [1.0, 0.5, 0.7837837837837838, 0.6049382716049383, 0.4528301886792453, 0.4264705882352941, 0.42044801838024126]\n"
     ]
    },
    {
     "name": "stderr",
     "output_type": "stream",
     "text": [
      "100%|██████████| 16/16 [00:00<00:00, 3225.30it/s]\n"
     ]
    },
    {
     "name": "stdout",
     "output_type": "stream",
     "text": [
      "Score_strain_density = 0.08027465466308094\n",
      "Score_strain_radius = 1.8902917383077151\n",
      "Score_strain_harmonics = 0.09579122614524027\n",
      "Score_strain_gap = [1, 1, 0.6780550526329548, 0.5495758364304542, 0.38339994855718623, 0.029439012828824034, 0.01939256204194767]\n",
      "Score_strain_uniformity = [1.0, 1.0, 0.7368421052631579, 0.6724137931034483, 0.6460176991150443, 0.48835992675908974, 0.4522809696506967]\n",
      "Score_stress_density = 0.08091358404454417\n",
      "Score_stress_radius = 1.7440976481952415\n",
      "Score_stress_harmonics = 0.09693005649158483\n",
      "Score_stress_gap = [1, 0.6707179515999344, 0.5513931115275923, 0.4224381542797404, 0.10213602202809338, 0.02589146734474677, 0.019368585968684057]\n",
      "Score_stress_uniformity = [1.0, 0.6875, 0.6981132075471698, 0.657608695652174, 0.5574402467232074, 0.4781542056074766, 0.44922695170834126]\n"
     ]
    },
    {
     "name": "stderr",
     "output_type": "stream",
     "text": [
      "100%|██████████| 16/16 [00:00<00:00, 6537.00it/s]\n"
     ]
    },
    {
     "name": "stdout",
     "output_type": "stream",
     "text": [
      "Score_strain_density = 0.36033002075423537\n",
      "Score_strain_radius = nan\n",
      "Score_strain_harmonics = 0.6966030241039374\n",
      "Score_strain_gap = [1, 1, 1, 0.7619161175177287, 0.3816099480046098, 0.3379772157252113, 0.3379772157252113]\n",
      "Score_strain_uniformity = [1.0, 1.0, 1.0, 0.6, 0.8436974789915966, 0.8001792114695341, 0.8001792114695341]\n",
      "Score_stress_density = 0.3638919147929297\n",
      "Score_stress_radius = nan\n",
      "Score_stress_harmonics = 0.70251127765552\n",
      "Score_stress_gap = [1, 1, 1, 0.7618920368862778, 0.38172585125521463, 0.33797338973807783, 0.33797338973807783]\n",
      "Score_stress_uniformity = [1.0, 1.0, 1.0, 0.6, 0.8459214501510574, 0.8001792114695341, 0.8001792114695341]\n"
     ]
    },
    {
     "name": "stderr",
     "output_type": "stream",
     "text": [
      "100%|██████████| 16/16 [00:00<00:00, 3637.34it/s]\n"
     ]
    },
    {
     "name": "stdout",
     "output_type": "stream",
     "text": [
      "Score_strain_density = 0.08198512212510244\n",
      "Score_strain_radius = 1.4207967045176855\n",
      "Score_strain_harmonics = 0.10348817925478593\n",
      "Score_strain_gap = [1, 1, 0.8626246385046271, 0.6688828148828635, 0.22653500789782452, 0.031084430759838706, 0.01918002426754771]\n",
      "Score_strain_uniformity = [1.0, 1.0, 1.0, 0.6764705882352942, 0.5868544600938967, 0.5021124471888203, 0.4482596425211665]\n",
      "Score_stress_density = 0.08255889882818135\n",
      "Score_stress_radius = 1.575802867963212\n",
      "Score_stress_harmonics = 0.10543083160326554\n",
      "Score_stress_gap = [1, 0.6562505216523605, 0.5035642187930471, 0.2964697619999054, 0.07167063119807214, 0.024393476860665387, 0.01922375014253936]\n",
      "Score_stress_uniformity = [1.0, 0.625, 0.6197183098591549, 0.6019900497512438, 0.5427184466019418, 0.48412698412698413, 0.4495766698024459]\n"
     ]
    },
    {
     "name": "stderr",
     "output_type": "stream",
     "text": [
      "100%|██████████| 16/16 [00:00<00:00, 3049.57it/s]\n"
     ]
    },
    {
     "name": "stdout",
     "output_type": "stream",
     "text": [
      "Score_strain_density = 0.07039954140676907\n",
      "Score_strain_radius = 1.633858411392691\n",
      "Score_strain_harmonics = 0.08556056260071139\n",
      "Score_strain_gap = [1, 1, 0.7516189489762467, 0.5672576249626686, 0.3020586430741713, 0.03410262608235048, 0.018091702664448487]\n",
      "Score_strain_uniformity = [1.0, 1.0, 0.6666666666666666, 0.6136363636363636, 0.5956873315363881, 0.49939903846153844, 0.4375486381322957]\n",
      "Score_stress_density = 0.07069342741579887\n",
      "Score_stress_radius = 1.8187518396328224\n",
      "Score_stress_harmonics = 0.08682924227878484\n",
      "Score_stress_gap = [1, 0.6014478399876096, 0.5190583037090964, 0.3097498115618478, 0.09677714898379422, 0.02389661898265938, 0.01817037147786432]\n",
      "Score_stress_uniformity = [1.0, 0.6470588235294118, 0.6111111111111112, 0.5894736842105263, 0.5468331846565566, 0.46576007770762506, 0.4367704280155642]\n"
     ]
    },
    {
     "name": "stderr",
     "output_type": "stream",
     "text": [
      "100%|██████████| 16/16 [00:00<00:00, 9842.90it/s]"
     ]
    },
    {
     "name": "stdout",
     "output_type": "stream",
     "text": [
      "Score_strain_density = 0.32984816788536037\n",
      "Score_strain_radius = nan\n",
      "Score_strain_harmonics = 0.6900271260643922\n",
      "Score_strain_gap = [1, 1, 0.7397425507489243, 0.6670491196627233, 0.6755689549391003, 0.6078801159988739, 0.6078801159988739]\n",
      "Score_strain_uniformity = [1.0, 1.0, 0.75, 0.7307692307692307, 0.8027210884353742, 0.7816291161178509, 0.7816291161178509]\n"
     ]
    },
    {
     "name": "stderr",
     "output_type": "stream",
     "text": [
      "\n"
     ]
    },
    {
     "name": "stdout",
     "output_type": "stream",
     "text": [
      "Score_stress_density = 0.3330043791470176\n",
      "Score_stress_radius = nan\n",
      "Score_stress_harmonics = 0.697626666298631\n",
      "Score_stress_gap = [1, 1, 0.7397425507489247, 0.6670491196627238, 0.6755689549391009, 0.6078801159988738, 0.6078801159988738]\n",
      "Score_stress_uniformity = [1.0, 1.0, 0.75, 0.7307692307692307, 0.8027210884353742, 0.7816291161178509, 0.7816291161178509]\n"
     ]
    },
    {
     "name": "stderr",
     "output_type": "stream",
     "text": [
      "100%|██████████| 16/16 [00:00<00:00, 8748.39it/s]\n"
     ]
    },
    {
     "name": "stdout",
     "output_type": "stream",
     "text": [
      "Score_strain_density = 0.25844805458002945\n",
      "Score_strain_radius = 1.8269144884910071\n",
      "Score_strain_harmonics = 0.500140385757707\n",
      "Score_strain_gap = [1, 0.9564734104237401, 0.8641636651378469, 0.7401377058315629, 0.6363329532029003, 0.5472591082347436, 0.09636864657194771]\n",
      "Score_strain_uniformity = [1.0, 0.5, 0.8181818181818182, 0.7254901960784313, 0.8267622461170848, 0.7463884430176565, 0.6832611832611832]\n",
      "Score_stress_density = 0.2615517875975377\n",
      "Score_stress_radius = 1.9650880782225346\n",
      "Score_stress_harmonics = 0.5015137782212983\n",
      "Score_stress_gap = [1, 0.8183687918685303, 0.7681114660865846, 0.6741028517147628, 0.592412442759403, 0.5469278198520248, 0.096370843981854]\n",
      "Score_stress_uniformity = [1.0, 0.85, 0.7608695652173914, 0.8302238805970149, 0.804953560371517, 0.7370892018779343, 0.683982683982684]\n"
     ]
    },
    {
     "name": "stderr",
     "output_type": "stream",
     "text": [
      "100%|██████████| 16/16 [00:00<00:00, 7515.83it/s]\n"
     ]
    },
    {
     "name": "stdout",
     "output_type": "stream",
     "text": [
      "Score_strain_density = 0.22224437205821798\n",
      "Score_strain_radius = 1.9091337748901596\n",
      "Score_strain_harmonics = 0.5137805143337532\n",
      "Score_strain_gap = [1, 0.8878839131170437, 0.8878839131170437, 0.750751045759712, 0.6108259047999873, 0.4901293833629423, 0.4889760690429671]\n",
      "Score_strain_uniformity = [1.0, 1.0, 1.0, 0.8333333333333334, 0.6111111111111112, 0.7442258340461934, 0.6937293729372938]\n",
      "Score_stress_density = 0.22699092422699943\n",
      "Score_stress_radius = 2.1708771415949926\n",
      "Score_stress_harmonics = 0.5185990829650317\n",
      "Score_stress_gap = [1, 0.6461318366301426, 0.6230799548314511, 0.5593140852964961, 0.5122026867231512, 0.48914681188872977, 0.4885494202396439]\n",
      "Score_stress_uniformity = [1.0, 0.5, 0.625, 0.8167053364269141, 0.7660223804679552, 0.7084217975937721, 0.695049504950495]\n"
     ]
    },
    {
     "name": "stderr",
     "output_type": "stream",
     "text": [
      "100%|██████████| 16/16 [00:00<00:00, 3770.37it/s]\n"
     ]
    },
    {
     "name": "stdout",
     "output_type": "stream",
     "text": [
      "Score_strain_density = 0.2953612035656661\n",
      "Score_strain_radius = 1.5705028001257195\n",
      "Score_strain_harmonics = 0.430190539098012\n",
      "Score_strain_gap = [1, 0.9203596912953209, 0.9203596912953209, 0.7607264916556593, 0.5391314044359911, 0.3286466363725381, 0.05338549891277384]\n",
      "Score_strain_uniformity = [1.0, 1.0, 1.0, 0.7777777777777778, 0.9021834061135371, 0.8106737503018595, 0.7415262837426426]\n",
      "Score_stress_density = 0.2987135567226877\n",
      "Score_stress_radius = 1.9301914627042522\n",
      "Score_stress_harmonics = 0.4319597297564107\n",
      "Score_stress_gap = [1, 0.9435172221501045, 0.7543956499150294, 0.5505785235750135, 0.3412310544016359, 0.32351689096851366, 0.054095856482615744]\n",
      "Score_stress_uniformity = [1.0, 1.0, 0.8571428571428571, 0.9067325509573811, 0.8623969562460367, 0.7936039918348832, 0.7423381367972397]\n"
     ]
    },
    {
     "name": "stderr",
     "output_type": "stream",
     "text": [
      "100%|██████████| 16/16 [00:00<00:00, 3599.30it/s]\n"
     ]
    },
    {
     "name": "stdout",
     "output_type": "stream",
     "text": [
      "Score_strain_density = 0.386100623164372\n",
      "Score_strain_radius = 1.4079337127945797\n",
      "Score_strain_harmonics = 0.4336530142235238\n",
      "Score_strain_gap = [1, 0.9137491448101949, 0.8895493366502577, 0.7698005764337322, 0.5091642196133294, 0.2488052597080669, 0.0572099972486832]\n",
      "Score_strain_uniformity = [1.0, 1.0, 0.75, 0.9166666666666666, 0.8818213416753563, 0.8014844804318488, 0.7363378282469837]\n",
      "Score_stress_density = 0.38707648932906197\n",
      "Score_stress_radius = 1.6615513045454673\n",
      "Score_stress_harmonics = 0.4338529552507983\n",
      "Score_stress_gap = [1, 0.9154243365524495, 0.7839682864659441, 0.7688425355996606, 0.4083037690941311, 0.24614218055453221, 0.05723972054415495]\n",
      "Score_stress_uniformity = [1.0, 1.0, 0.8, 0.9176829268292683, 0.8794889502762431, 0.798313704496788, 0.7372841258575822]\n"
     ]
    },
    {
     "name": "stderr",
     "output_type": "stream",
     "text": [
      "100%|██████████| 16/16 [00:00<00:00, 4536.53it/s]\n"
     ]
    },
    {
     "name": "stdout",
     "output_type": "stream",
     "text": [
      "Score_strain_density = 0.3868020025772416\n",
      "Score_strain_radius = 1.4303110628649909\n",
      "Score_strain_harmonics = 0.43206738794682054\n",
      "Score_strain_gap = [1, 0.9452647712698844, 0.8124777894855152, 0.7493626864996012, 0.384279404674946, 0.22012151358346724, 0.05294559675730937]\n",
      "Score_strain_uniformity = [1.0, 1.0, 1.0, 0.8873239436619719, 0.8880853994490359, 0.7861509835194046, 0.7168997668997669]\n",
      "Score_stress_density = 0.3877256459058353\n",
      "Score_stress_radius = 1.681306291107868\n",
      "Score_stress_harmonics = 0.4324946021134724\n",
      "Score_stress_gap = [1, 0.960949344099129, 0.8308183416767039, 0.7445202743793706, 0.38612446472151146, 0.20789231630927246, 0.052939949443391775]\n",
      "Score_stress_uniformity = [1.0, 1.0, 1.0, 0.916452442159383, 0.8789615643964936, 0.7801667969768048, 0.7185314685314685]\n"
     ]
    },
    {
     "name": "stderr",
     "output_type": "stream",
     "text": [
      "100%|██████████| 16/16 [00:00<00:00, 7889.59it/s]\n"
     ]
    },
    {
     "name": "stdout",
     "output_type": "stream",
     "text": [
      "Score_strain_density = 0.6190359965072721\n",
      "Score_strain_radius = nan\n",
      "Score_strain_harmonics = 0.7635649818830141\n",
      "Score_strain_gap = [1, 1, 1, 1, 1, 1, 1]\n",
      "Score_strain_uniformity = [1.0, 0.9991103202846975, 0.9991103202846975, 0.9991103202846975, 0.9991103202846975, 0.9991103202846975, 0.9991103202846975]\n",
      "Score_stress_density = 0.6182480233128081\n",
      "Score_stress_radius = nan\n",
      "Score_stress_harmonics = 0.7635597300376299\n",
      "Score_stress_gap = [1, 1, 1, 1, 1, 1, 1]\n",
      "Score_stress_uniformity = [1.0, 0.9991103202846975, 0.9991103202846975, 0.9991103202846975, 0.9991103202846975, 0.9991103202846975, 0.9991103202846975]\n"
     ]
    }
   ],
   "source": [
    "for i in range(len(mesh_list)):\n",
    "    #### Meshfile ####\n",
    "    meshfile = mesh_list[i]                    # with .xdmf\n",
    "    meshpath = './output_files/'\n",
    "    \n",
    "    #### Evaluate strain diversity ####\n",
    "    # load data\n",
    "    filename = './resultstester_GAP/'+meshfile+'/'+'data.mat'\n",
    "    epsilon = loadmat(filename)['epsilon']\n",
    "    sigma = loadmat(filename)['sigma']\n",
    "\n",
    "    #### Calculate anisotropic score #### \n",
    "    n_element = sigma.shape[0]\n",
    "    n_frame = epsilon.shape[3]\n",
    "    strain = np.arange(n_frame)/(n_frame-1)*e_max\n",
    "    i_frame = round(0.001/e_max*(n_frame-1))\n",
    "\n",
    "    epsilon_normal = np.zeros((n_element,n_frame))\n",
    "    epsilon_shear = np.zeros((n_element,n_frame))\n",
    "    sigma_normal = np.zeros((n_element,n_frame))\n",
    "    sigma_shear = np.zeros((n_element,n_frame))\n",
    "    \n",
    "    for it in tqdm(range(n_frame)):\n",
    "        epsilon_t = epsilon[:,:,:,it].reshape(n_element,4)\n",
    "        epsilon_normal[:,it] = (epsilon_t[:,0] - epsilon_t[:,3])/2\n",
    "        epsilon_shear[:,it] = epsilon_t[:,2]\n",
    "        \n",
    "        sigma_t = sigma[:,:,:,it].reshape(n_element,4)\n",
    "        sigma_normal[:,it] = (sigma_t[:,0] - sigma_t[:,3])/2\n",
    "        sigma_shear[:,it] = sigma_t[:,2]\n",
    "\n",
    "    epsilon_radius2 = (epsilon_normal**2 + epsilon_shear**2).reshape(n_frame*n_element).tolist()\n",
    "    epsilon_all = np.vstack((epsilon_normal.reshape(n_frame*n_element),epsilon_shear.reshape(n_frame*n_element))).T.tolist()\n",
    "    epsilon_i = np.vstack((epsilon_normal[:,i_frame],epsilon_shear[:,i_frame])).T.tolist()\n",
    "\n",
    "    Score_strain_density = anisotropy_score_density(epsilon_all,n_segments=60)\n",
    "    Score_strain_radius = anisotropy_score_radius(epsilon_all,n_segments=60)\n",
    "    Score_strain_harmonics = anisotropy_score_harmonics(epsilon_all,n_segments=60)\n",
    "    thresholds = [1.00, 0.95, 0.75, 0.50, 0.25, 0.05, 0.00]\n",
    "    Score_strain_gap = [GapScore(epsilon_i,threshold=x) for x in thresholds]\n",
    "    Score_strain_uniformity = [UniformityScore(epsilon_i,threshold=x) for x in thresholds]\n",
    "    \n",
    "    print('Score_strain_density = {}'.format(Score_strain_density))\n",
    "    print('Score_strain_radius = {}'.format(Score_strain_radius))\n",
    "    print('Score_strain_harmonics = {}'.format(Score_strain_harmonics))\n",
    "    print('Score_strain_gap = {}'.format(Score_strain_gap))\n",
    "    print('Score_strain_uniformity = {}'.format(Score_strain_uniformity))\n",
    "    \n",
    "    sigma_radius2 = (sigma_normal**2 + sigma_shear**2).reshape(n_frame*n_element).tolist()\n",
    "    sigma_all = np.vstack((sigma_normal.reshape(n_frame*n_element),sigma_shear.reshape(n_frame*n_element))).T.tolist()\n",
    "    sigma_i = np.vstack((sigma_normal[:,i_frame],sigma_shear[:,i_frame])).T.tolist()\n",
    "\n",
    "    Score_stress_density = anisotropy_score_density(sigma_all,n_segments=60)\n",
    "    Score_stress_radius = anisotropy_score_radius(sigma_all,n_segments=60)\n",
    "    Score_stress_harmonics = anisotropy_score_harmonics(sigma_all,n_segments=60)\n",
    "    Score_stress_gap = [GapScore(sigma_i,threshold=x) for x in thresholds]\n",
    "    Score_stress_uniformity = [UniformityScore(sigma_i,threshold=x) for x in thresholds]\n",
    "    \n",
    "    print('Score_stress_density = {}'.format(Score_stress_density))\n",
    "    print('Score_stress_radius = {}'.format(Score_stress_radius))\n",
    "    print('Score_stress_harmonics = {}'.format(Score_stress_harmonics))\n",
    "    print('Score_stress_gap = {}'.format(Score_stress_gap))\n",
    "    print('Score_stress_uniformity = {}'.format(Score_stress_uniformity))\n",
    "    \n",
    "    #### Save results #### \n",
    "    Score_density = np.array([Score_strain_density,Score_stress_density])\n",
    "    Score_radius = np.array([Score_strain_radius,Score_stress_radius])\n",
    "    Score_h = np.array([Score_strain_harmonics,Score_stress_harmonics])\n",
    "    Score_gap = np.array([Score_strain_gap,Score_stress_gap])\n",
    "    Score_uniformity = np.array([Score_strain_uniformity,Score_stress_uniformity])\n",
    "\n",
    "\n",
    "    from scipy.io import savemat\n",
    "    mdic = {'Score_density':Score_density,\n",
    "            'Score_radius':Score_radius,\n",
    "            'Score_h':Score_h, \n",
    "            'Score_gap':Score_gap,\n",
    "            'Score_uniformity':Score_uniformity\n",
    "           }\n",
    "    savemat('./resultstester_GAP/'+meshfile+'/'+'score.mat', mdic)"
   ]
  },
  {
   "cell_type": "code",
   "execution_count": null,
   "metadata": {},
   "outputs": [],
   "source": []
  }
 ],
 "metadata": {
  "kernelspec": {
   "display_name": "Python 3",
   "language": "python",
   "name": "python3"
  },
  "language_info": {
   "codemirror_mode": {
    "name": "ipython",
    "version": 3
   },
   "file_extension": ".py",
   "mimetype": "text/x-python",
   "name": "python",
   "nbconvert_exporter": "python",
   "pygments_lexer": "ipython3",
   "version": "3.6.9"
  },
  "toc": {
   "base_numbering": 1,
   "nav_menu": {},
   "number_sections": true,
   "sideBar": true,
   "skip_h1_title": false,
   "title_cell": "Table of Contents",
   "title_sidebar": "Contents",
   "toc_cell": false,
   "toc_position": {},
   "toc_section_display": true,
   "toc_window_display": false
  },
  "varInspector": {
   "cols": {
    "lenName": 16,
    "lenType": 16,
    "lenVar": 40
   },
   "kernels_config": {
    "python": {
     "delete_cmd_postfix": "",
     "delete_cmd_prefix": "del ",
     "library": "var_list.py",
     "varRefreshCmd": "print(var_dic_list())"
    },
    "r": {
     "delete_cmd_postfix": ") ",
     "delete_cmd_prefix": "rm(",
     "library": "var_list.r",
     "varRefreshCmd": "cat(var_dic_list()) "
    }
   },
   "types_to_exclude": [
    "module",
    "function",
    "builtin_function_or_method",
    "instance",
    "_Feature"
   ],
   "window_display": false
  }
 },
 "nbformat": 4,
 "nbformat_minor": 5
}
