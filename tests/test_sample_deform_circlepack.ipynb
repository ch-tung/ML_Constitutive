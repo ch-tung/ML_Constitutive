{
 "cells": [
  {
   "cell_type": "code",
   "execution_count": 1,
   "id": "5819bf95",
   "metadata": {},
   "outputs": [],
   "source": [
    "from __future__ import print_function\n",
    "from fenics import *\n",
    "# from dolfin_adjoint import *\n",
    "import mshr"
   ]
  },
  {
   "cell_type": "markdown",
   "id": "0f4ee2ac",
   "metadata": {},
   "source": [
    "### Create mesh and define function space"
   ]
  },
  {
   "cell_type": "code",
   "execution_count": 2,
   "id": "c7fa2e35",
   "metadata": {},
   "outputs": [
    {
     "data": {
      "text/plain": [
       "[0, 1, 2, 3, 4, 5, 6, 7, 8]"
      ]
     },
     "execution_count": 2,
     "metadata": {},
     "output_type": "execute_result"
    }
   ],
   "source": [
    "# Sample Geometry\n",
    "L = 1\n",
    "H = 1\n",
    "cx = [.25,.50,.75,.25,.50,.75,.25,.50,.75]\n",
    "cy = [.25,.25,.25,.50,.50,.50,.75,.75,.75]\n",
    "R = [.125,.1,.075,.12,.095,.07,.115,.09,.065]\n",
    "\n",
    "Circle_i = lambda i: mshr.Circle(Point(cx[i],cy[i]), R[i])\n",
    "Circles = list(map(Circle_i, [i for i, e in enumerate(R) if e != 0]))\n",
    "[i for i, e in enumerate(R) if e != 0]"
   ]
  },
  {
   "cell_type": "code",
   "execution_count": 3,
   "id": "a7746091",
   "metadata": {},
   "outputs": [],
   "source": [
    "def hole(obj,holes):\n",
    "    obj_with_holes = obj\n",
    "    for i in range(len(holes)):\n",
    "        obj_with_holes = obj_with_holes - holes[i]\n",
    "    return obj_with_holes\n",
    "\n",
    "domain = hole(mshr.Rectangle(Point(0.,0.), Point(L, H)),Circles)\n",
    "mesh = mshr.generate_mesh(domain, 100)"
   ]
  },
  {
   "cell_type": "markdown",
   "id": "5047cf65",
   "metadata": {},
   "source": [
    "### Constitutive relation"
   ]
  },
  {
   "cell_type": "code",
   "execution_count": 4,
   "id": "5afe7ecc",
   "metadata": {},
   "outputs": [],
   "source": [
    "# Mechanical Properties\n",
    "E = Constant(1)\n",
    "nu = Constant(0.3)\n",
    "sigma_y0 = Constant(0.5) # yield stress\n",
    "\n",
    "mu = E/2/(1+nu)\n",
    "lmbda = E*nu/(1+nu)/(1-2*nu)\n",
    "lmbda = 2*mu*lmbda/(lmbda+2*mu)"
   ]
  },
  {
   "cell_type": "code",
   "execution_count": 5,
   "id": "1acf5c3b",
   "metadata": {},
   "outputs": [],
   "source": [
    "def sigmoid(x):\n",
    "    s = 1/(1+exp(-x))\n",
    "    return s\n",
    "def tanh(x):\n",
    "    t = (exp(2*x)-1)/(exp(2*x)+1)\n",
    "    return t"
   ]
  },
  {
   "cell_type": "code",
   "execution_count": 6,
   "id": "360b4913",
   "metadata": {},
   "outputs": [],
   "source": [
    "# Constitutive relation\n",
    "def epsilon(u):\n",
    "    return sym(grad(u))\n",
    "\n",
    "def sigma_el(epsilon):\n",
    "    return lmbda*tr(epsilon)*Identity(2) + 2*mu*epsilon\n",
    "\n",
    "def sigma_yield(epsilon):\n",
    "    return sigma_y0 + 0.1*sigma_y0*tanh(epsilon*10)\n",
    "\n",
    "def epsilon_pl(d_epsilon, sigma_old, epsilon_old):\n",
    "    '''\n",
    "    inputs\n",
    "    d_epsilon: strain increment\n",
    "    sigma_old: stress tensor at the increment n\n",
    "    epsilon_old: plastic strain tensor\n",
    "    '''\n",
    "    kappa = Constant(100)\n",
    "    \n",
    "    sigma_y = sigma_yield(epsilon_old)\n",
    "    H = diff(sigma_y, epsilon_old)\n",
    "    \n",
    "    sigma_pr = sigma_old + sigma_el(d_epsilon) # trial stress\n",
    "    sigma_pr_dev = dev(sigma_pr) # deviatoric elastic stress\n",
    "    sigma_ef = sqrt(3/2.*inner(sigma_pr_dev, sigma_pr_dev) + DOLFIN_EPS) # effective von Mises stress\n",
    "    \n",
    "    sgn = (sigma_ef - sigma_y)/(abs(sigma_ef - sigma_y) + DOLFIN_EPS)\n",
    "    f_sigmoid = sigmoid(kappa*(sigma_ef - sigma_y)*sgn) # the indicator function\n",
    "    f_ind = (f_sigmoid-0.5)*sgn + 0.5\n",
    "    \n",
    "    d_epsilon_pl_sc = f_ind*(sigma_ef - sigma_y)/(3*mu + H) # plastic strain increment (scalar)\n",
    "    n_pr = dev(sigma_pr) / sigma_ef\n",
    "    d_epsilon_pl = d_epsilon_pl_sc*3/2*n_pr\n",
    "    \n",
    "    return d_epsilon_pl\n",
    "\n",
    "def Constitutive_function(sig_n, du, ep_n, dt=1E-3):\n",
    "    d_epsilon_el = epsilon(du) # elastic strain increment\n",
    "    d_epsilon_pl = epsilon_pl(d_epsilon_el,sig_n,ep_n) # plastic strain increment\n",
    "    d_epsilon = d_epsilon_el - d_epsilon_pl\n",
    "    scalar_d_epsilon = sqrt(inner(d_epsilon,d_epsilon)*2.0/3.0 + DOLFIN_EPS)\n",
    "    return sig_n + sigma_el(d_epsilon), scalar_d_epsilon"
   ]
  },
  {
   "cell_type": "code",
   "execution_count": 7,
   "id": "64db7ebb",
   "metadata": {},
   "outputs": [],
   "source": [
    "Time = 20\n",
    "num_steps = 10\n",
    "e_tot = 0.05\n",
    "\n",
    "def solve_plastic_system(mesh, Time, num_steps, constitutive_func, loss_func=lambda n,x: 0):\n",
    "    dt = Time / num_steps # time step size\n",
    "    tol = 1.0E-14\n",
    "    \n",
    "    # Define function space for displacement\n",
    "    S = FunctionSpace(mesh, 'P', 1)\n",
    "    V = VectorFunctionSpace(mesh, 'P', 1)\n",
    "    T = TensorFunctionSpace(mesh, 'P', 1)\n",
    "    \n",
    "    # Define test functions\n",
    "    v  = TestFunction(V)\n",
    "    du = TrialFunction(V)\n",
    "    \n",
    "    # Define functions for dsiplacement\n",
    "    u     = Function(V)\n",
    "    u_n   = Function(V)\n",
    "    sig   = Function(T)\n",
    "    sig_n = Function(T)\n",
    "    ep    = Function(S)\n",
    "    ep_n  = Function(S)\n",
    "\n",
    "    # Define boundary \n",
    "    tol = 1E-14\n",
    "    def BC_y0(x, on_boundary):\n",
    "        return on_boundary and near(x[1], 0, tol)\n",
    "    def BC_y1(x, on_boundary):\n",
    "        return on_boundary and near(x[1], 1, tol)\n",
    "    bcD = DirichletBC(V.sub(1), 0,    BC_y0)\n",
    "    \n",
    "    \n",
    "    # Time-stepping\n",
    "    t = 0\n",
    "    results = []\n",
    "    \n",
    "    for n in range(num_steps+1):\n",
    "        print(n)\n",
    "        displacement = float(e_tot/num_steps*n)\n",
    "        bcU = DirichletBC(V.sub(1), displacement, BC_y1)\n",
    "        BC = [bcU, bcD]\n",
    "        \n",
    "        # Define variational problem\n",
    "        sig, dep = constitutive_func(sig_n, u-u_n, ep_n, dt=dt)\n",
    "        F = inner(sig, epsilon(v))*dx\n",
    "        \n",
    "        # Update current time\n",
    "        t = t + dt\n",
    "        \n",
    "        # Solve variational problem for time step\n",
    "        J = derivative(F, u, du)\n",
    "        problem = NonlinearVariationalProblem(F, u, BC, J)\n",
    "        solver = NonlinearVariationalSolver(problem)\n",
    "        solver.solve()\n",
    "        \n",
    "        # Update previous solution\n",
    "        sig = project(sig, T)\n",
    "        ep = project(ep_n+dep, S)\n",
    "        \n",
    "        sig_n.assign(sig)\n",
    "        u_n.assign(u)\n",
    "        ep_n.assign(ep)\n",
    "        print('end')\n",
    "    return ep, sig, u"
   ]
  },
  {
   "cell_type": "code",
   "execution_count": 8,
   "id": "1638871a",
   "metadata": {
    "scrolled": false
   },
   "outputs": [
    {
     "name": "stdout",
     "output_type": "stream",
     "text": [
      "0\n",
      "Solving nonlinear variational problem.\n",
      "  Newton iteration 0: r (abs) = 0.000e+00 (tol = 1.000e-10) r (rel) = -nan (tol = 1.000e-09)\n",
      "  Newton solver finished in 0 iterations and 0 linear solver iterations.\n",
      "end\n",
      "1\n",
      "Solving nonlinear variational problem.\n",
      "  Newton iteration 0: r (abs) = 1.825e-01 (tol = 1.000e-10) r (rel) = 1.000e+00 (tol = 1.000e-09)\n",
      "  Newton iteration 1: r (abs) = 3.740e-12 (tol = 1.000e-10) r (rel) = 2.049e-11 (tol = 1.000e-09)\n",
      "  Newton solver finished in 1 iterations and 1 linear solver iterations.\n",
      "end\n",
      "2\n",
      "Solving nonlinear variational problem.\n",
      "  Newton iteration 0: r (abs) = 1.825e-01 (tol = 1.000e-10) r (rel) = 1.000e+00 (tol = 1.000e-09)\n",
      "  Newton iteration 1: r (abs) = 3.282e-16 (tol = 1.000e-10) r (rel) = 1.798e-15 (tol = 1.000e-09)\n",
      "  Newton solver finished in 1 iterations and 1 linear solver iterations.\n",
      "end\n",
      "3\n",
      "Solving nonlinear variational problem.\n",
      "  Newton iteration 0: r (abs) = 1.825e-01 (tol = 1.000e-10) r (rel) = 1.000e+00 (tol = 1.000e-09)\n",
      "  Newton iteration 1: r (abs) = 2.968e-16 (tol = 1.000e-10) r (rel) = 1.626e-15 (tol = 1.000e-09)\n",
      "  Newton solver finished in 1 iterations and 1 linear solver iterations.\n",
      "end\n",
      "4\n",
      "Solving nonlinear variational problem.\n",
      "  Newton iteration 0: r (abs) = 1.825e-01 (tol = 1.000e-10) r (rel) = 1.000e+00 (tol = 1.000e-09)\n",
      "  Newton iteration 1: r (abs) = 4.408e-16 (tol = 1.000e-10) r (rel) = 2.415e-15 (tol = 1.000e-09)\n",
      "  Newton solver finished in 1 iterations and 1 linear solver iterations.\n",
      "end\n",
      "5\n",
      "Solving nonlinear variational problem.\n",
      "  Newton iteration 0: r (abs) = 1.825e-01 (tol = 1.000e-10) r (rel) = 1.000e+00 (tol = 1.000e-09)\n",
      "  Newton iteration 1: r (abs) = 3.855e-16 (tol = 1.000e-10) r (rel) = 2.112e-15 (tol = 1.000e-09)\n",
      "  Newton solver finished in 1 iterations and 1 linear solver iterations.\n",
      "end\n",
      "6\n",
      "Solving nonlinear variational problem.\n",
      "  Newton iteration 0: r (abs) = 1.825e-01 (tol = 1.000e-10) r (rel) = 1.000e+00 (tol = 1.000e-09)\n",
      "  Newton iteration 1: r (abs) = 4.016e-16 (tol = 1.000e-10) r (rel) = 2.200e-15 (tol = 1.000e-09)\n",
      "  Newton solver finished in 1 iterations and 1 linear solver iterations.\n",
      "end\n",
      "7\n",
      "Solving nonlinear variational problem.\n",
      "  Newton iteration 0: r (abs) = 1.825e-01 (tol = 1.000e-10) r (rel) = 1.000e+00 (tol = 1.000e-09)\n",
      "  Newton iteration 1: r (abs) = 3.423e-15 (tol = 1.000e-10) r (rel) = 1.875e-14 (tol = 1.000e-09)\n",
      "  Newton solver finished in 1 iterations and 1 linear solver iterations.\n",
      "end\n",
      "8\n",
      "Solving nonlinear variational problem.\n",
      "  Newton iteration 0: r (abs) = 1.825e-01 (tol = 1.000e-10) r (rel) = 1.000e+00 (tol = 1.000e-09)\n",
      "  Newton iteration 1: r (abs) = 9.138e-16 (tol = 1.000e-10) r (rel) = 5.007e-15 (tol = 1.000e-09)\n",
      "  Newton solver finished in 1 iterations and 1 linear solver iterations.\n",
      "end\n",
      "9\n",
      "Solving nonlinear variational problem.\n",
      "  Newton iteration 0: r (abs) = 1.825e-01 (tol = 1.000e-10) r (rel) = 1.000e+00 (tol = 1.000e-09)\n",
      "  Newton iteration 1: r (abs) = 9.254e-16 (tol = 1.000e-10) r (rel) = 5.070e-15 (tol = 1.000e-09)\n",
      "  Newton solver finished in 1 iterations and 1 linear solver iterations.\n",
      "end\n",
      "10\n",
      "Solving nonlinear variational problem.\n",
      "  Newton iteration 0: r (abs) = 1.825e-01 (tol = 1.000e-10) r (rel) = 1.000e+00 (tol = 1.000e-09)\n",
      "  Newton iteration 1: r (abs) = 8.690e-16 (tol = 1.000e-10) r (rel) = 4.761e-15 (tol = 1.000e-09)\n",
      "  Newton solver finished in 1 iterations and 1 linear solver iterations.\n",
      "end\n"
     ]
    }
   ],
   "source": [
    "ep, sig, u = solve_plastic_system(mesh, Time, num_steps, Constitutive_function)"
   ]
  },
  {
   "cell_type": "code",
   "execution_count": 9,
   "id": "e6ef835a",
   "metadata": {},
   "outputs": [
    {
     "data": {
      "text/plain": [
       "<matplotlib.collections.TriMesh at 0x7f63147f8be0>"
      ]
     },
     "execution_count": 9,
     "metadata": {},
     "output_type": "execute_result"
    },
    {
     "data": {
      "image/png": "[encoded data removed]",
      "text/plain": [
       "<Figure size 432x288 with 1 Axes>"
      ]
     },
     "metadata": {
      "needs_background": "light"
     },
     "output_type": "display_data"
    }
   ],
   "source": [
    "def mis_eps(ep):\n",
    "    eps_dev = ep - Identity(2)*tr(ep)\n",
    "    mis = sqrt(3/2*inner(eps_dev,eps_dev))\n",
    "    return mis\n",
    "\n",
    "def mis_sigma(sig):\n",
    "    sigma_dev = sig - Identity(2)*tr(sig)\n",
    "    mis = sqrt(3/2*inner(sigma_dev,sigma_dev))\n",
    "    return mis\n",
    "S = FunctionSpace(mesh, 'P', 1)\n",
    "sigma_Mis = project(mis_sigma(sig),S)\n",
    "plot(sigma_Mis, mode='color')"
   ]
  },
  {
   "cell_type": "code",
   "execution_count": 10,
   "id": "002e2a21",
   "metadata": {},
   "outputs": [],
   "source": [
    "# Save solution to file in VTK format\n",
    "# eps_u = epsilon(u)\n",
    "# sigma_u = sigma_el(u)\n",
    "# eps_u = project(ep,T)\n",
    "# sigma_u = project(sig,T)\n",
    "\n",
    "u.rename('f_u','displacement')\n",
    "sigma_Mis.rename('f_sigma_Mis','stress_Mis')\n",
    "# eps_Mis.rename('f_eps_Mis','strain_Mis')\n",
    "# sigma_u.rename('f_sigma_u','stress')\n",
    "# eps_u.rename('f_eps_u','strain')\n",
    "\n",
    "File('test_sample_deform/displacement_cp.pvd') << u\n",
    "File('test_sample_deform/stress_Mis_cp.pvd') << sigma_Mis\n",
    "# File('test_sample_deform/strain_Mis.pvd') << eps_Mis\n",
    "# File('test_sample_deform/strain.pvd') << eps_u\n",
    "# File('test_sample_deform/stess.pvd') << sigma_u"
   ]
  },
  {
   "cell_type": "code",
   "execution_count": null,
   "id": "60f1a7c8",
   "metadata": {},
   "outputs": [],
   "source": []
  }
 ],
 "metadata": {
  "kernelspec": {
   "display_name": "Python 3 (ipykernel)",
   "language": "python",
   "name": "python3"
  },
  "language_info": {
   "codemirror_mode": {
    "name": "ipython",
    "version": 3
   },
   "file_extension": ".py",
   "mimetype": "text/x-python",
   "name": "python",
   "nbconvert_exporter": "python",
   "pygments_lexer": "ipython3",
   "version": "3.8.10"
  }
 },
 "nbformat": 4,
 "nbformat_minor": 5
}
